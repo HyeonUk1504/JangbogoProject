{
 "cells": [
  {
   "cell_type": "code",
   "execution_count": 1,
   "metadata": {},
   "outputs": [],
   "source": [
    "import requests\n",
    "import json\n",
    "import pandas as pd\n",
    "import numpy as np"
   ]
  },
  {
   "cell_type": "code",
   "execution_count": 2,
   "metadata": {},
   "outputs": [],
   "source": [
    "url = 'http://apis.data.go.kr/1360000/FmlandWthrInfoService/getDayStatistics'\n",
    "servicekey_en = 'f8%2FAQMI%2FVCCLb%2FOjO4hPfmZwE9qdtIrRD07dhQgRjR9OjCkyAsjEzJIBm7raIgOlA4GCw%2FGJp7bytgeT2lYcrw%3D%3D'\n",
    "servicekey_de = 'f8/AQMI/VCCLb/OjO4hPfmZwE9qdtIrRD07dhQgRjR9OjCkyAsjEzJIBm7raIgOlA4GCw/GJp7bytgeT2lYcrw=='"
   ]
  },
  {
   "cell_type": "code",
   "execution_count": 3,
   "metadata": {},
   "outputs": [],
   "source": [
    "numOfrows = '3000' #페이지당 결과물 출력 수\n",
    "start_date = '20100101' #조회 시작일 (2010년 1월 1일)\n",
    "end_date = '20210930' #조회 마지막일(2021년 10월 1일)\n",
    "area_id = '999999999' #조회 지역 코드 , 999999999 입력시 전체지역\n",
    "product_id = 'PA999999' #주산지 작물별 특성 아이디(PA999999 입력시 전체 작물)"
   ]
  },
  {
   "cell_type": "code",
   "execution_count": 4,
   "metadata": {},
   "outputs": [],
   "source": [
    "product_key = {'배추' : 'PA170401', '무' : 'PA130201', '양파' : 'PA250201', '건고추' : 'PA030101', '마늘' : 'PA120101', '대파' : 'PA090101',\n",
    "              '얼갈이배추' : 'PA260101', '양배추' : 'PA240101', '깻잎' : 'PA050101', '시금치' : 'PA220101', '미나리' : 'PA140101',\n",
    "              '당근': 'PA080101', '캠벨얼리' : 'PA340101'}\n",
    "product_key_test = {'배추' : 'PA170401'}"
   ]
  },
  {
   "cell_type": "code",
   "execution_count": 5,
   "metadata": {},
   "outputs": [],
   "source": [
    "# *대상품목(16): 배추, 무, 양파, 건고추, 마늘, 대파, 얼갈이배추, 양배추, 깻잎, 시금치, 미나리, 당근, 파프리카, 새송이, 팽이버섯, 토마토\n",
    "# *대상품종(5): 청상추, 백다다기, 애호박, 캠벨얼리, 샤인마스캇"
   ]
  },
  {
   "cell_type": "code",
   "execution_count": 6,
   "metadata": {},
   "outputs": [],
   "source": [
    "# product_key = {배추 : 'PA170401', 무 : 'PA130201', 양파 : 'PA250201', 건고추 : 'PA030101', 마늘 : 'PA120101', 대파 : 'PA090101',\n",
    "#               얼갈이배추 : 'PA260101', 양배추 : 'PA240101', 깻잎 : 'PA050101', 시금치 : 'PA220101', 미나리 : 'PA140101',\n",
    "#               당근: 'PA080101', 캠벨얼리 : 'PA340101'} #파프리카, 새송이 팽이버섯 토마토, 청상추, 백다다기, 애호박, 샤인마스캇은  전처리 후 , 지역이름을 따야할듯\n"
   ]
  },
  {
   "cell_type": "code",
   "execution_count": 7,
   "metadata": {},
   "outputs": [],
   "source": [
    "# #영천 포도-캠벨얼리\n",
    "# params ={'serviceKey' : servicekey_de, 'pageNo' : '1', 'numOfRows' : numOfrows , 'dataType' : 'JSON', 'ST_YMD' : start_date, 'ED_YMD' : end_date, 'AREA_ID' : area_id, 'PA_CROP_SPE_ID' : product_id }"
   ]
  },
  {
   "cell_type": "code",
   "execution_count": 8,
   "metadata": {},
   "outputs": [],
   "source": [
    "product_data = None # 데이터 받기의 최종 결과물이 될 녀석\n",
    "flag = True "
   ]
  },
  {
   "cell_type": "code",
   "execution_count": null,
   "metadata": {},
   "outputs": [],
   "source": [
    "#상품 종목별 데이터 갯수\n",
    "for key, value in product_key.items():\n",
    "    params ={'serviceKey' : servicekey_de, 'pageNo' : '1', 'numOfRows' : numOfrows , 'dataType' : 'JSON', 'ST_YMD' : start_date, 'ED_YMD' : end_date, 'AREA_ID' : area_id, 'PA_CROP_SPE_ID' : value }\n",
    "    response = requests.get(url, params=params)\n",
    "    data_api = json.loads(response.text) #딕셔너리 객체로 변환\n",
    "    count_val = data_api['response']['body']['totalCount']\n",
    "    print(key, count_val)"
   ]
  },
  {
   "cell_type": "code",
   "execution_count": null,
   "metadata": {
    "scrolled": true
   },
   "outputs": [],
   "source": [
    "#종목별 데이터 합치기\n",
    "for key, value in product_key_test.items(): #종목별 데이터 페이지 숫자를 알아내기 위한 for 문\n",
    "    params ={'serviceKey' : servicekey_de, 'pageNo' : '1', 'numOfRows' : numOfrows , 'dataType' : 'JSON', 'ST_YMD' : start_date, 'ED_YMD' : end_date, 'AREA_ID' : area_id, 'PA_CROP_SPE_ID' : value }\n",
    "    response = requests.get(url, params=params)\n",
    "    data_api = json.loads(response.text)\n",
    "    count_val = data_api['response']['body']['totalCount']\n",
    "    print(key, count_val)\n",
    "    numOfpage = int(count_val)//int(numOfrows)\n",
    "    for i in range(1,numOfpage+2): #종목별 데이터를 페이지별로 모두 추출 및 합병\n",
    "        print(key, i)\n",
    "        params ={'serviceKey' : servicekey_de, 'pageNo' : str(i), 'numOfRows' : numOfrows , 'dataType' : 'JSON', 'ST_YMD' : start_date, 'ED_YMD' : end_date, 'AREA_ID' : area_id, 'PA_CROP_SPE_ID' : value }\n",
    "        response = requests.get(url, params=params)\n",
    "        data_api_add = json.loads(response.text) #딕셔너리 타입으로 나옴\n",
    "        dict_data_add = data_api_add['response']['body']['items']['item']\n",
    "        product_data_add = pd.DataFrame(dict_data_add)\n",
    "        if flag :\n",
    "            product_data = product_data_add\n",
    "            flag = False\n",
    "        else:\n",
    "            temp = pd.concat([product_data_add,product_data], axis = 0)\n",
    "            product_data = temp"
   ]
  },
  {
   "cell_type": "code",
   "execution_count": null,
   "metadata": {},
   "outputs": [],
   "source": [
    "product_data #최종 결과물"
   ]
  },
  {
   "cell_type": "code",
   "execution_count": null,
   "metadata": {},
   "outputs": [],
   "source": [
    "#시계열로 나누어진 엑셀 파일을 열때마다 동시계열의 api 호출을 해서 데이터 크기를 줄여야함. 너무 크면 호출 실패"
   ]
  }
 ],
 "metadata": {
  "kernelspec": {
   "display_name": "Python 3",
   "language": "python",
   "name": "python3"
  },
  "language_info": {
   "codemirror_mode": {
    "name": "ipython",
    "version": 3
   },
   "file_extension": ".py",
   "mimetype": "text/x-python",
   "name": "python",
   "nbconvert_exporter": "python",
   "pygments_lexer": "ipython3",
   "version": "3.8.5"
  }
 },
 "nbformat": 4,
 "nbformat_minor": 4
}
