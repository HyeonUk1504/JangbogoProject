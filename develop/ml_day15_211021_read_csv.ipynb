{
  "nbformat": 4,
  "nbformat_minor": 0,
  "metadata": {
    "colab": {
      "name": "ml_day15_211021_read_csv.ipynb",
      "provenance": [],
      "collapsed_sections": []
    },
    "kernelspec": {
      "name": "python3",
      "display_name": "Python 3"
    },
    "language_info": {
      "name": "python"
    }
  },
  "cells": [
    {
      "cell_type": "code",
      "metadata": {
        "id": "q7LHYzkmZb9U"
      },
      "source": [
        ""
      ],
      "execution_count": null,
      "outputs": []
    },
    {
      "cell_type": "code",
      "metadata": {
        "id": "Yg6g6DMRZd9J"
      },
      "source": [
        "# from google.colab import drive\n",
        "# drive.mount('/content/drive')"
      ],
      "execution_count": null,
      "outputs": []
    },
    {
      "cell_type": "code",
      "metadata": {
        "id": "wsrN-zmLZfYA"
      },
      "source": [
        "import pandas as pd\n",
        "import pickle"
      ],
      "execution_count": null,
      "outputs": []
    },
    {
      "cell_type": "code",
      "metadata": {
        "id": "lcQUWDYdaAIl"
      },
      "source": [
        "# df=pd.read_csv(\"/content/drive/MyDrive/멀캠_딥러닝_장보고프로젝트/235801_2021 농산물 가격예측 AI 경진대회/public_data/train.csv\")"
      ],
      "execution_count": null,
      "outputs": []
    },
    {
      "cell_type": "code",
      "metadata": {
        "id": "epBssqaQaKxy"
      },
      "source": [
        "import os "
      ],
      "execution_count": null,
      "outputs": []
    },
    {
      "cell_type": "code",
      "metadata": {
        "colab": {
          "base_uri": "https://localhost:8080/",
          "height": 35
        },
        "id": "C5gb4RiraUSS",
        "outputId": "86efbd79-d855-482d-c0d8-c161d76f8795"
      },
      "source": [
        "os.getcwd()"
      ],
      "execution_count": null,
      "outputs": [
        {
          "output_type": "execute_result",
          "data": {
            "application/vnd.google.colaboratory.intrinsic+json": {
              "type": "string"
            },
            "text/plain": [
              "'/content'"
            ]
          },
          "metadata": {},
          "execution_count": 4
        }
      ]
    },
    {
      "cell_type": "code",
      "metadata": {
        "colab": {
          "base_uri": "https://localhost:8080/"
        },
        "id": "FlohgTx2abb8",
        "outputId": "01a7eabf-7031-4da7-d0f4-bd4b7c9093b2"
      },
      "source": [
        "dir_path = \"/content/drive/MyDrive/멀캠_장보고/농산물_가격예측_AI 경진대회/public_data/train_AT_TSALET_ALL/\" # 파일위치 폴더 \n",
        "os.listdir(dir_path)\n",
        "fd_filenm = os.listdir(dir_path) # 모든 파일명 리스트를 가져옴\n",
        "fd_filenm=[f_nm for f_nm in fd_filenm if f_nm[-3:]=='csv']\n",
        "# fd_filenm\n",
        "print(len(fd_filenm))"
      ],
      "execution_count": null,
      "outputs": [
        {
          "output_type": "stream",
          "name": "stdout",
          "text": [
            "57\n"
          ]
        }
      ]
    },
    {
      "cell_type": "code",
      "metadata": {
        "id": "z_fsOC867ScK"
      },
      "source": [
        "# dir_path = \"/content/drive/MyDrive/멀캠_장보고/농산물_가격예측_AI 경진대회/public_data/total_pickle/\" # 파일위치 폴더 \n",
        "# os.listdir(dir_path)\n",
        "# fd_filenm = os.listdir(dir_path) # 모든 파일명 리스트를 가져옴\n",
        "# fd_filenm=[f_nm for f_nm in fd_filenm if f_nm[-3:]=='pkl']\n",
        "# # fd_filenm\n",
        "# print(len(fd_filenm))"
      ],
      "execution_count": null,
      "outputs": []
    },
    {
      "cell_type": "code",
      "metadata": {
        "colab": {
          "base_uri": "https://localhost:8080/"
        },
        "id": "mwCx7RmmuM42",
        "outputId": "3f77f961-f1f3-4a71-d0a3-0037ec7dd251"
      },
      "source": [
        "fd_size=int(len(fd_filenm)/10)\n",
        "fd_size"
      ],
      "execution_count": null,
      "outputs": [
        {
          "output_type": "execute_result",
          "data": {
            "text/plain": [
              "5"
            ]
          },
          "metadata": {},
          "execution_count": 7
        }
      ]
    },
    {
      "cell_type": "code",
      "metadata": {
        "id": "Q0vCdLJUzTNq"
      },
      "source": [
        "# from google.colab import drive\n",
        "# drive.mount('/content/drive')"
      ],
      "execution_count": null,
      "outputs": []
    },
    {
      "cell_type": "code",
      "metadata": {
        "id": "P3kF2yShuYgC"
      },
      "source": [
        "file_list1=fd_filenm[:fd_size]\n",
        "file_list2=fd_filenm[fd_size:fd_size*2]\n",
        "file_list3=fd_filenm[fd_size*2:fd_size*3]\n",
        "file_list4=fd_filenm[fd_size*3:fd_size*4]\n",
        "file_list5=fd_filenm[fd_size*4:fd_size*5]\n",
        "file_list6=fd_filenm[fd_size*5:fd_size*6]\n",
        "file_list7=fd_filenm[fd_size*6:fd_size*7]\n",
        "file_list8=fd_filenm[fd_size*7:fd_size*8]\n",
        "file_list9=fd_filenm[fd_size*8:fd_size*9]\n",
        "file_list10=fd_filenm[fd_size*9:]\n",
        "# file_list5=fd_filenm[fd_size*10:fd_size*5]\n"
      ],
      "execution_count": null,
      "outputs": []
    },
    {
      "cell_type": "code",
      "metadata": {
        "id": "-4gnhB_Qaq88"
      },
      "source": [
        "# fd_filenm"
      ],
      "execution_count": null,
      "outputs": []
    },
    {
      "cell_type": "code",
      "metadata": {
        "id": "gPvbLgRkasMN"
      },
      "source": [
        "def concat_read_file(arg_fnm_list):\n",
        "    global dir_path\n",
        "    fd_path = dir_path\n",
        "    flag = True\n",
        "\n",
        "    dfs = pd.DataFrame()\n",
        "    for fnm in arg_fnm_list:\n",
        "        print(\"파일명 : \", fnm)\n",
        "        df = pd.read_csv(fd_path+fnm, thousands=',') # 파일을 열었을때 무시하는 행            \n",
        "        \n",
        "        if flag : \n",
        "            print(\"개수 확인1 : \", df.shape)\n",
        "            dfs = df\n",
        "            flag = False\n",
        "        else:\n",
        "            print(\"개수 확인2 : \", df.shape)\n",
        "            temp = pd.concat([dfs,df], join='outer', ignore_index=True, axis=0)\n",
        "            dfs = temp\n",
        "    return dfs "
      ],
      "execution_count": null,
      "outputs": []
    },
    {
      "cell_type": "code",
      "metadata": {
        "id": "vYgiaLbs7mfK"
      },
      "source": [
        "# def concat_read_file2(arg_fnm_list):\n",
        "#     global dir_path\n",
        "#     fd_path = dir_path\n",
        "#     flag = True\n",
        "\n",
        "#     dfs = pd.DataFrame()\n",
        "#     for fnm in arg_fnm_list:\n",
        "#         print(\"파일명 : \", fnm)\n",
        "#         df = pd.read_pickle(fd_path+fnm) # 파일을 열었을때 무시하는 행            \n",
        "#         if flag : \n",
        "#             dfs = df\n",
        "#             flag = False\n",
        "#         else:\n",
        "#             temp = pd.concat([dfs,df], join='outer', ignore_index=True, axis=0)\n",
        "#             dfs = temp\n",
        "#     return dfs "
      ],
      "execution_count": null,
      "outputs": []
    },
    {
      "cell_type": "markdown",
      "metadata": {
        "id": "r7lQjtVU8mwp"
      },
      "source": [
        ""
      ]
    },
    {
      "cell_type": "code",
      "metadata": {
        "colab": {
          "base_uri": "https://localhost:8080/"
        },
        "id": "DYAbvWzW70bv",
        "outputId": "51eccb39-01b2-408a-94e3-d485062cf3a0"
      },
      "source": [
        "df_pkl = concat_read_file2(fd_filenm)"
      ],
      "execution_count": null,
      "outputs": [
        {
          "output_type": "stream",
          "name": "stdout",
          "text": [
            "파일명 :  TOTAL_AT_TSALET1.pkl\n",
            "파일명 :  TOTAL_AT_TSALET2.pkl\n",
            "파일명 :  TOTAL_AT_TSALET3.pkl\n",
            "파일명 :  TOTAL_AT_TSALET4.pkl\n",
            "파일명 :  TOTAL_AT_TSALET5.pkl\n",
            "파일명 :  TOTAL_AT_TSALET6.pkl\n",
            "파일명 :  TOTAL_AT_TSALET7.pkl\n",
            "파일명 :  TOTAL_AT_TSALET8.pkl\n",
            "파일명 :  TOTAL_AT_TSALET9.pkl\n",
            "파일명 :  TOTAL_AT_TSALET10.pkl\n"
          ]
        }
      ]
    },
    {
      "cell_type": "code",
      "metadata": {
        "colab": {
          "base_uri": "https://localhost:8080/"
        },
        "id": "u2Ac3BqV8nr-",
        "outputId": "f23574cf-c4d4-42d4-aeb7-dd7dcc2c5cb8"
      },
      "source": [
        "df_pkl.info()"
      ],
      "execution_count": null,
      "outputs": [
        {
          "output_type": "stream",
          "name": "stdout",
          "text": [
            "<class 'pandas.core.frame.DataFrame'>\n",
            "RangeIndex: 34086221 entries, 0 to 34086220\n",
            "Data columns (total 15 columns):\n",
            " #   Column    Dtype  \n",
            "---  ------    -----  \n",
            " 0   SALEDATE  object \n",
            " 1   WHSAL_NM  object \n",
            " 2   CMP_NM    object \n",
            " 3   PUM_NM    object \n",
            " 4   KIND_NM   object \n",
            " 5   DAN_NM    object \n",
            " 6   POJ_NM    object \n",
            " 7   SIZE_NM   object \n",
            " 8   LV_NM     object \n",
            " 9   SAN_NM    object \n",
            " 10  DANQ      float64\n",
            " 11  QTY       int64  \n",
            " 12  COST      float64\n",
            " 13  TOT_QTY   float64\n",
            " 14  TOT_AMT   int64  \n",
            "dtypes: float64(3), int64(2), object(10)\n",
            "memory usage: 3.8+ GB\n"
          ]
        }
      ]
    },
    {
      "cell_type": "code",
      "metadata": {
        "id": "IL558-p78jcc"
      },
      "source": [
        "df_pkl.to_pickle(\"/content/drive/MyDrive/멀캠_장보고/농산물_가격예측_AI 경진대회/public_data/TOT.pkl\")\n"
      ],
      "execution_count": null,
      "outputs": []
    },
    {
      "cell_type": "code",
      "metadata": {
        "id": "xcET9n2Va1PN",
        "colab": {
          "base_uri": "https://localhost:8080/"
        },
        "outputId": "bb4abe89-bdc3-43ee-b216-d70a294d21e1"
      },
      "source": [
        "df1=concat_read_file(file_list1)\n",
        "# df1.to_csv(\"/content/drive/MyDrive/멀캠_장보고/농산물_가격예측_AI 경진대회/public_data/TOTAL_AT_TSALET1.csv\")\n",
        "df1.to_pickle(\"/content/drive/MyDrive/멀캠_장보고/농산물_가격예측_AI 경진대회/public_data/TOTAL_AT_TSALET1.pkl\")"
      ],
      "execution_count": null,
      "outputs": [
        {
          "output_type": "stream",
          "name": "stdout",
          "text": [
            "파일명 :  AT_TSALET_ALL_201602.csv\n",
            "개수 확인1 :  (2432161, 15)\n",
            "파일명 :  AT_TSALET_ALL_201612.csv\n",
            "개수 확인2 :  (2874710, 15)\n",
            "파일명 :  AT_TSALET_ALL_201702.csv\n",
            "개수 확인2 :  (2628856, 15)\n",
            "파일명 :  AT_TSALET_ALL_201601.csv\n",
            "개수 확인2 :  (2700796, 15)\n",
            "파일명 :  AT_TSALET_ALL_201701.csv\n",
            "개수 확인2 :  (2758423, 15)\n"
          ]
        }
      ]
    },
    {
      "cell_type": "code",
      "metadata": {
        "id": "2PcDm3U1331G"
      },
      "source": [
        "# df1.info()"
      ],
      "execution_count": null,
      "outputs": []
    },
    {
      "cell_type": "code",
      "metadata": {
        "colab": {
          "base_uri": "https://localhost:8080/"
        },
        "id": "VvEW9cyau5Q0",
        "outputId": "00e2447f-3e60-4795-aa9a-da3b60eec565"
      },
      "source": [
        "df2=concat_read_file(file_list2)\n",
        "# df2.to_csv(\"/content/drive/MyDrive/멀캠_장보고/농산물_가격예측_AI 경진대회/public_data/TOTAL_AT_TSALET2.csv\")\n",
        "df2.to_pickle(\"/content/drive/MyDrive/멀캠_장보고/농산물_가격예측_AI 경진대회/public_data/TOTAL_AT_TSALET2.pkl\")"
      ],
      "execution_count": null,
      "outputs": [
        {
          "output_type": "stream",
          "name": "stdout",
          "text": [
            "파일명 :  AT_TSALET_ALL_201603.csv\n",
            "개수 확인1 :  (3178990, 15)\n",
            "파일명 :  AT_TSALET_ALL_201604.csv\n",
            "개수 확인2 :  (3397855, 15)\n",
            "파일명 :  AT_TSALET_ALL_201611.csv\n",
            "개수 확인2 :  (2948666, 15)\n",
            "파일명 :  AT_TSALET_ALL_201704.csv\n",
            "개수 확인2 :  (3439202, 15)\n",
            "파일명 :  AT_TSALET_ALL_201703.csv\n",
            "개수 확인2 :  (3393637, 15)\n"
          ]
        }
      ]
    },
    {
      "cell_type": "code",
      "metadata": {
        "id": "2_n-wIYx3643"
      },
      "source": [
        "# df2.info()"
      ],
      "execution_count": null,
      "outputs": []
    },
    {
      "cell_type": "code",
      "metadata": {
        "colab": {
          "base_uri": "https://localhost:8080/"
        },
        "id": "UR1Zwmr-3-Oe",
        "outputId": "2b5fbbd0-ed74-44a2-d080-8ddaec90e62b"
      },
      "source": [
        "2758423 + 3393637 "
      ],
      "execution_count": null,
      "outputs": [
        {
          "output_type": "execute_result",
          "data": {
            "text/plain": [
              "6152060"
            ]
          },
          "metadata": {},
          "execution_count": 26
        }
      ]
    },
    {
      "cell_type": "code",
      "metadata": {
        "colab": {
          "base_uri": "https://localhost:8080/"
        },
        "id": "odsQMFRewirm",
        "outputId": "96fe33d5-b65b-4729-bdb5-32ca0bdc50bc"
      },
      "source": [
        "df3=concat_read_file(file_list3)\n",
        "# df3.to_csv(\"/content/drive/MyDrive/멀캠_장보고/농산물_가격예측_AI 경진대회/public_data/TOTAL_AT_TSALET3.csv\")\n",
        "df3.to_pickle(\"/content/drive/MyDrive/멀캠_장보고/농산물_가격예측_AI 경진대회/public_data/TOTAL_AT_TSALET3.pkl\")"
      ],
      "execution_count": null,
      "outputs": [
        {
          "output_type": "stream",
          "name": "stdout",
          "text": [
            "파일명 :  AT_TSALET_ALL_201605.csv\n",
            "개수 확인1 :  (3581551, 15)\n",
            "파일명 :  AT_TSALET_ALL_201609.csv\n",
            "개수 확인2 :  (3427075, 15)\n",
            "파일명 :  AT_TSALET_ALL_201610.csv\n",
            "개수 확인2 :  (3435175, 15)\n",
            "파일명 :  AT_TSALET_ALL_201606.csv\n",
            "개수 확인2 :  (3950752, 15)\n",
            "파일명 :  AT_TSALET_ALL_201608.csv\n",
            "개수 확인2 :  (4034218, 15)\n"
          ]
        }
      ]
    },
    {
      "cell_type": "code",
      "metadata": {
        "colab": {
          "base_uri": "https://localhost:8080/"
        },
        "id": "y-eh8w07wiiP",
        "outputId": "56001379-0453-41f6-dcab-4bfb9e765571"
      },
      "source": [
        "df4=concat_read_file(file_list4)\n",
        "# df4.to_csv(\"/content/drive/MyDrive/멀캠_장보고/농산물_가격예측_AI 경진대회/public_data/TOTAL_AT_TSALET4.csv\")\n",
        "df4.to_pickle(\"/content/drive/MyDrive/멀캠_장보고/농산물_가격예측_AI 경진대회/public_data/TOTAL_AT_TSALET4.pkl\")"
      ],
      "execution_count": null,
      "outputs": [
        {
          "output_type": "stream",
          "name": "stdout",
          "text": [
            "파일명 :  AT_TSALET_ALL_201607.csv\n",
            "개수 확인1 :  (4029410, 15)\n",
            "파일명 :  AT_TSALET_ALL_201705.csv\n",
            "개수 확인2 :  (3607607, 15)\n",
            "파일명 :  AT_TSALET_ALL_201802.csv\n",
            "개수 확인2 :  (2691361, 15)\n",
            "파일명 :  AT_TSALET_ALL_201712.csv\n",
            "개수 확인2 :  (2752575, 15)\n",
            "파일명 :  AT_TSALET_ALL_201710.csv\n",
            "개수 확인2 :  (3037172, 15)\n"
          ]
        }
      ]
    },
    {
      "cell_type": "code",
      "metadata": {
        "colab": {
          "base_uri": "https://localhost:8080/"
        },
        "id": "1QMaIMGOyVfF",
        "outputId": "34177c30-01ec-4a8b-854b-dbec31fcb5e6"
      },
      "source": [
        "df5=concat_read_file(file_list5)\n",
        "# df5.to_csv(\"/content/drive/MyDrive/멀캠_장보고/농산물_가격예측_AI 경진대회/public_data/TOTAL_AT_TSALET5.csv\")\n",
        "df5.to_pickle(\"/content/drive/MyDrive/멀캠_장보고/농산물_가격예측_AI 경진대회/public_data/TOTAL_AT_TSALET5.pkl\")"
      ],
      "execution_count": null,
      "outputs": [
        {
          "output_type": "stream",
          "name": "stdout",
          "text": [
            "파일명 :  AT_TSALET_ALL_201801.csv\n",
            "개수 확인1 :  (2841238, 15)\n",
            "파일명 :  AT_TSALET_ALL_201711.csv\n",
            "개수 확인2 :  (3090606, 15)\n",
            "파일명 :  AT_TSALET_ALL_201804.csv\n",
            "개수 확인2 :  (3270190, 15)\n",
            "파일명 :  AT_TSALET_ALL_201706.csv\n",
            "개수 확인2 :  (4031132, 15)\n",
            "파일명 :  AT_TSALET_ALL_201805.csv\n",
            "개수 확인2 :  (3666785, 15)\n"
          ]
        }
      ]
    },
    {
      "cell_type": "code",
      "metadata": {
        "colab": {
          "base_uri": "https://localhost:8080/"
        },
        "id": "Mj069AFIyVYM",
        "outputId": "7fdbcb6a-ed2e-4515-a465-52853f80dbb8"
      },
      "source": [
        "df6=concat_read_file(file_list6)\n",
        "# df6.to_csv(\"/content/drive/MyDrive/멀캠_장보고/농산물_가격예측_AI 경진대회/public_data/TOTAL_AT_TSALET6.csv\")\n",
        "df6.to_pickle(\"/content/drive/MyDrive/멀캠_장보고/농산물_가격예측_AI 경진대회/public_data/TOTAL_AT_TSALET6.pkl\")"
      ],
      "execution_count": null,
      "outputs": [
        {
          "output_type": "stream",
          "name": "stdout",
          "text": [
            "파일명 :  AT_TSALET_ALL_201707.csv\n",
            "개수 확인1 :  (4076811, 15)\n",
            "파일명 :  AT_TSALET_ALL_201803.csv\n",
            "개수 확인2 :  (3257570, 15)\n",
            "파일명 :  AT_TSALET_ALL_201708.csv\n",
            "개수 확인2 :  (4076945, 15)\n",
            "파일명 :  AT_TSALET_ALL_201709.csv\n",
            "개수 확인2 :  (4124457, 15)\n",
            "파일명 :  AT_TSALET_ALL_201808.csv\n",
            "개수 확인2 :  (3893460, 15)\n"
          ]
        }
      ]
    },
    {
      "cell_type": "code",
      "metadata": {
        "colab": {
          "base_uri": "https://localhost:8080/"
        },
        "id": "ukLUl4Et0oMQ",
        "outputId": "3b492d80-595b-4add-e963-885d32c19026"
      },
      "source": [
        "df7=concat_read_file(file_list7)\n",
        "# df7.to_csv(\"/content/drive/MyDrive/멀캠_장보고/농산물_가격예측_AI 경진대회/public_data/TOTAL_AT_TSALET7.csv\")\n",
        "df7.to_pickle(\"/content/drive/MyDrive/멀캠_장보고/농산물_가격예측_AI 경진대회/public_data/TOTAL_AT_TSALET7.pkl\")"
      ],
      "execution_count": null,
      "outputs": [
        {
          "output_type": "stream",
          "name": "stdout",
          "text": [
            "파일명 :  AT_TSALET_ALL_201806.csv\n",
            "개수 확인1 :  (3901788, 15)\n",
            "파일명 :  AT_TSALET_ALL_201807.csv\n",
            "개수 확인2 :  (4041145, 15)\n",
            "파일명 :  AT_TSALET_ALL_201902.csv\n",
            "개수 확인2 :  (2318724, 15)\n",
            "파일명 :  AT_TSALET_ALL_201901.csv\n",
            "개수 확인2 :  (3218994, 15)\n",
            "파일명 :  AT_TSALET_ALL_201809.csv\n",
            "개수 확인2 :  (3497402, 15)\n"
          ]
        }
      ]
    },
    {
      "cell_type": "code",
      "metadata": {
        "colab": {
          "base_uri": "https://localhost:8080/"
        },
        "id": "teJX13ew0oxH",
        "outputId": "7d62b880-0bdd-4bba-c1e4-be8ef7559ca2"
      },
      "source": [
        "df8=concat_read_file(file_list8)\n",
        "# df8.to_csv(\"/content/drive/MyDrive/멀캠_장보고/농산물_가격예측_AI 경진대회/public_data/TOTAL_AT_TSALET8.csv\")\n",
        "df8.to_pickle(\"/content/drive/MyDrive/멀캠_장보고/농산물_가격예측_AI 경진대회/public_data/TOTAL_AT_TSALET8.pkl\")"
      ],
      "execution_count": null,
      "outputs": [
        {
          "output_type": "stream",
          "name": "stdout",
          "text": [
            "파일명 :  AT_TSALET_ALL_201812.csv\n",
            "개수 확인1 :  (2863307, 15)\n",
            "파일명 :  AT_TSALET_ALL_201811.csv\n",
            "개수 확인2 :  (3040775, 15)\n",
            "파일명 :  AT_TSALET_ALL_201810.csv\n",
            "개수 확인2 :  (3560279, 15)\n",
            "파일명 :  AT_TSALET_ALL_201903.csv\n",
            "개수 확인2 :  (3188907, 15)\n",
            "파일명 :  AT_TSALET_ALL_201904.csv\n",
            "개수 확인2 :  (3433606, 15)\n"
          ]
        }
      ]
    },
    {
      "cell_type": "code",
      "metadata": {
        "colab": {
          "base_uri": "https://localhost:8080/"
        },
        "id": "gRaD6iyv0pEP",
        "outputId": "8e72c177-5e11-42ec-f712-5b6119bbb15b"
      },
      "source": [
        "df9=concat_read_file(file_list9)\n",
        "# df9.to_csv(\"/content/drive/MyDrive/멀캠_장보고/농산물_가격예측_AI 경진대회/public_data/TOTAL_AT_TSALET9.csv\")\n",
        "df9.to_pickle(\"/content/drive/MyDrive/멀캠_장보고/농산물_가격예측_AI 경진대회/public_data/TOTAL_AT_TSALET9.pkl\")"
      ],
      "execution_count": null,
      "outputs": [
        {
          "output_type": "stream",
          "name": "stdout",
          "text": [
            "파일명 :  AT_TSALET_ALL_201909.csv\n",
            "개수 확인1 :  (3263914, 15)\n",
            "파일명 :  AT_TSALET_ALL_201906.csv\n",
            "개수 확인2 :  (3702698, 15)\n",
            "파일명 :  AT_TSALET_ALL_201905.csv\n",
            "개수 확인2 :  (3579591, 15)\n",
            "파일명 :  AT_TSALET_ALL_201908.csv\n",
            "개수 확인2 :  (3968298, 15)\n",
            "파일명 :  AT_TSALET_ALL_201912.csv\n",
            "개수 확인2 :  (2917773, 15)\n"
          ]
        }
      ]
    },
    {
      "cell_type": "code",
      "metadata": {
        "id": "qg5MeqZL_t8B",
        "colab": {
          "base_uri": "https://localhost:8080/"
        },
        "outputId": "43a5fcff-75e5-45e3-bae3-cf589bdcc8ef"
      },
      "source": [
        "len(file_list10)\n",
        "size_len = int(len(file_list10)/3)\n",
        "fi_list10=file_list10[:size_len]\n",
        "fi_list11=file_list10[size_len:size_len*2]\n",
        "fi_list12=file_list10[size_len*2:]\n",
        "\n",
        "\n",
        "print(fi_list10, fi_list11, fi_list12)\n"
      ],
      "execution_count": null,
      "outputs": [
        {
          "output_type": "stream",
          "name": "stdout",
          "text": [
            "['AT_TSALET_ALL_201907.csv', 'AT_TSALET_ALL_202001.csv', 'AT_TSALET_ALL_201911.csv', 'AT_TSALET_ALL_202002.csv'] ['AT_TSALET_ALL_202003.csv', 'AT_TSALET_ALL_201910.csv', 'AT_TSALET_ALL_202004.csv', 'AT_TSALET_ALL_202005.csv'] ['AT_TSALET_ALL_202006.csv', 'AT_TSALET_ALL_202008.csv', 'AT_TSALET_ALL_202007.csv', 'AT_TSALET_ALL_202009.csv']\n"
          ]
        }
      ]
    },
    {
      "cell_type": "code",
      "metadata": {
        "colab": {
          "base_uri": "https://localhost:8080/"
        },
        "id": "vv_ZR5gk0pJn",
        "outputId": "2cc5313d-e203-48a0-9205-c0929b017c41"
      },
      "source": [
        "df10=concat_read_file(fi_list10)\n",
        "# df10.to_csv(\"/content/drive/MyDrive/멀캠_장보고/농산물_가격예측_AI 경진대회/public_data/TOTAL_AT_TSALET10.csv\")\n",
        "df10.to_pickle(\"/content/drive/MyDrive/멀캠_장보고/농산물_가격예측_AI 경진대회/public_data/TOTAL_AT_TSALET10.pkl\")"
      ],
      "execution_count": null,
      "outputs": [
        {
          "output_type": "stream",
          "name": "stdout",
          "text": [
            "파일명 :  AT_TSALET_ALL_201907.csv\n",
            "개수 확인1 :  (4150254, 15)\n",
            "파일명 :  AT_TSALET_ALL_202001.csv\n",
            "개수 확인2 :  (2811820, 15)\n",
            "파일명 :  AT_TSALET_ALL_201911.csv\n",
            "개수 확인2 :  (3130009, 15)\n",
            "파일명 :  AT_TSALET_ALL_202002.csv\n",
            "개수 확인2 :  (2751331, 15)\n"
          ]
        }
      ]
    },
    {
      "cell_type": "code",
      "metadata": {
        "colab": {
          "base_uri": "https://localhost:8080/"
        },
        "id": "G8nwocvrNqhr",
        "outputId": "95ea8851-7a4f-4af9-ddd7-f5aeea3f70a4"
      },
      "source": [
        "df11=concat_read_file(fi_list11)\n",
        "# df10.to_csv(\"/content/drive/MyDrive/멀캠_장보고/농산물_가격예측_AI 경진대회/public_data/TOTAL_AT_TSALET10.csv\")\n",
        "df11.to_pickle(\"/content/drive/MyDrive/멀캠_장보고/농산물_가격예측_AI 경진대회/public_data/TOTAL_AT_TSALET11.pkl\")"
      ],
      "execution_count": null,
      "outputs": [
        {
          "output_type": "stream",
          "name": "stdout",
          "text": [
            "파일명 :  AT_TSALET_ALL_202003.csv\n",
            "개수 확인1 :  (3043218, 15)\n",
            "파일명 :  AT_TSALET_ALL_201910.csv\n",
            "개수 확인2 :  (3563256, 15)\n",
            "파일명 :  AT_TSALET_ALL_202004.csv\n",
            "개수 확인2 :  (3337937, 15)\n",
            "파일명 :  AT_TSALET_ALL_202005.csv\n",
            "개수 확인2 :  (3321593, 15)\n"
          ]
        }
      ]
    },
    {
      "cell_type": "code",
      "metadata": {
        "colab": {
          "base_uri": "https://localhost:8080/"
        },
        "id": "GUSWDuRpNqML",
        "outputId": "08724a39-8021-4d1b-e2af-f049dbcf59b1"
      },
      "source": [
        "df12=concat_read_file(fi_list12)\n",
        "\n",
        "\n",
        "# df10.to_csv(\"/content/drive/MyDrive/멀캠_장보고/농산물_가격예측_AI 경진대회/public_data/TOTAL_AT_TSALET10.csv\")\n",
        "df12.to_pickle(\"/content/drive/MyDrive/멀캠_장보고/농산물_가격예측_AI 경진대회/public_data/TOTAL_AT_TSALET12.pkl\")"
      ],
      "execution_count": null,
      "outputs": [
        {
          "output_type": "stream",
          "name": "stdout",
          "text": [
            "파일명 :  AT_TSALET_ALL_202006.csv\n",
            "개수 확인1 :  (3475423, 15)\n",
            "파일명 :  AT_TSALET_ALL_202008.csv\n",
            "개수 확인2 :  (3434954, 15)\n",
            "파일명 :  AT_TSALET_ALL_202007.csv\n",
            "개수 확인2 :  (3710409, 15)\n",
            "파일명 :  AT_TSALET_ALL_202009.csv\n",
            "개수 확인2 :  (3453745, 15)\n"
          ]
        }
      ]
    },
    {
      "cell_type": "code",
      "metadata": {
        "id": "WZblt7cgNqDM"
      },
      "source": [
        ""
      ],
      "execution_count": null,
      "outputs": []
    },
    {
      "cell_type": "code",
      "metadata": {
        "id": "fH-EqsYFNp6E"
      },
      "source": [
        ""
      ],
      "execution_count": null,
      "outputs": []
    },
    {
      "cell_type": "code",
      "metadata": {
        "id": "4CqCQsaSgScv"
      },
      "source": [
        "# df.to_csv(\"/content/drive/MyDrive/멀캠_장보고/농산물_가격예측_AI 경진대회/Total_TEST_AT_TSALET_ALL.csv\")"
      ],
      "execution_count": null,
      "outputs": []
    },
    {
      "cell_type": "code",
      "metadata": {
        "id": "rhkP6ullgvmP",
        "colab": {
          "base_uri": "https://localhost:8080/",
          "height": 419
        },
        "outputId": "d9c01e14-55ae-4eb2-8f5a-ef29eba215c1"
      },
      "source": [
        "df10.info()"
      ],
      "execution_count": null,
      "outputs": [
        {
          "output_type": "execute_result",
          "data": {
            "text/html": [
              "<div>\n",
              "<style scoped>\n",
              "    .dataframe tbody tr th:only-of-type {\n",
              "        vertical-align: middle;\n",
              "    }\n",
              "\n",
              "    .dataframe tbody tr th {\n",
              "        vertical-align: top;\n",
              "    }\n",
              "\n",
              "    .dataframe thead th {\n",
              "        text-align: right;\n",
              "    }\n",
              "</style>\n",
              "<table border=\"1\" class=\"dataframe\">\n",
              "  <thead>\n",
              "    <tr style=\"text-align: right;\">\n",
              "      <th></th>\n",
              "      <th>SALEDATE</th>\n",
              "      <th>WHSAL_NM</th>\n",
              "      <th>CMP_NM</th>\n",
              "      <th>PUM_NM</th>\n",
              "      <th>KIND_NM</th>\n",
              "      <th>DAN_NM</th>\n",
              "      <th>POJ_NM</th>\n",
              "      <th>SIZE_NM</th>\n",
              "      <th>LV_NM</th>\n",
              "      <th>SAN_NM</th>\n",
              "      <th>DANQ</th>\n",
              "      <th>QTY</th>\n",
              "      <th>COST</th>\n",
              "      <th>TOT_QTY</th>\n",
              "      <th>TOT_AMT</th>\n",
              "    </tr>\n",
              "  </thead>\n",
              "  <tbody>\n",
              "    <tr>\n",
              "      <th>0</th>\n",
              "      <td>20190710</td>\n",
              "      <td>대구북부도매</td>\n",
              "      <td>대양청과</td>\n",
              "      <td>호박</td>\n",
              "      <td>애호박</td>\n",
              "      <td>kg</td>\n",
              "      <td>상자</td>\n",
              "      <td>.</td>\n",
              "      <td>특</td>\n",
              "      <td>경상북도 안동시</td>\n",
              "      <td>10.0</td>\n",
              "      <td>32.0</td>\n",
              "      <td>6000.0</td>\n",
              "      <td>320.0</td>\n",
              "      <td>192000.0</td>\n",
              "    </tr>\n",
              "    <tr>\n",
              "      <th>1</th>\n",
              "      <td>20190710</td>\n",
              "      <td>대구북부도매</td>\n",
              "      <td>대양청과</td>\n",
              "      <td>호박</td>\n",
              "      <td>애호박</td>\n",
              "      <td>kg</td>\n",
              "      <td>상자</td>\n",
              "      <td>.</td>\n",
              "      <td>특</td>\n",
              "      <td>경상북도 안동시</td>\n",
              "      <td>10.0</td>\n",
              "      <td>16.0</td>\n",
              "      <td>7000.0</td>\n",
              "      <td>160.0</td>\n",
              "      <td>112000.0</td>\n",
              "    </tr>\n",
              "    <tr>\n",
              "      <th>2</th>\n",
              "      <td>20190710</td>\n",
              "      <td>대구북부도매</td>\n",
              "      <td>대양청과</td>\n",
              "      <td>호박</td>\n",
              "      <td>애호박</td>\n",
              "      <td>kg</td>\n",
              "      <td>상자</td>\n",
              "      <td>.</td>\n",
              "      <td>특</td>\n",
              "      <td>충청북도 괴산군</td>\n",
              "      <td>10.0</td>\n",
              "      <td>12.0</td>\n",
              "      <td>5500.0</td>\n",
              "      <td>120.0</td>\n",
              "      <td>66000.0</td>\n",
              "    </tr>\n",
              "    <tr>\n",
              "      <th>3</th>\n",
              "      <td>20190710</td>\n",
              "      <td>대구북부도매</td>\n",
              "      <td>대양청과</td>\n",
              "      <td>호박</td>\n",
              "      <td>애호박</td>\n",
              "      <td>kg</td>\n",
              "      <td>상자</td>\n",
              "      <td>.</td>\n",
              "      <td>상</td>\n",
              "      <td>충청북도 괴산군</td>\n",
              "      <td>10.0</td>\n",
              "      <td>1.0</td>\n",
              "      <td>2000.0</td>\n",
              "      <td>10.0</td>\n",
              "      <td>2000.0</td>\n",
              "    </tr>\n",
              "    <tr>\n",
              "      <th>4</th>\n",
              "      <td>20190710</td>\n",
              "      <td>대구북부도매</td>\n",
              "      <td>대양청과</td>\n",
              "      <td>호박</td>\n",
              "      <td>애호박</td>\n",
              "      <td>kg</td>\n",
              "      <td>상자</td>\n",
              "      <td>.</td>\n",
              "      <td>특</td>\n",
              "      <td>충청북도 괴산군</td>\n",
              "      <td>10.0</td>\n",
              "      <td>18.0</td>\n",
              "      <td>5500.0</td>\n",
              "      <td>180.0</td>\n",
              "      <td>99000.0</td>\n",
              "    </tr>\n",
              "    <tr>\n",
              "      <th>...</th>\n",
              "      <td>...</td>\n",
              "      <td>...</td>\n",
              "      <td>...</td>\n",
              "      <td>...</td>\n",
              "      <td>...</td>\n",
              "      <td>...</td>\n",
              "      <td>...</td>\n",
              "      <td>...</td>\n",
              "      <td>...</td>\n",
              "      <td>...</td>\n",
              "      <td>...</td>\n",
              "      <td>...</td>\n",
              "      <td>...</td>\n",
              "      <td>...</td>\n",
              "      <td>...</td>\n",
              "    </tr>\n",
              "    <tr>\n",
              "      <th>40183944</th>\n",
              "      <td>2020-09-28</td>\n",
              "      <td>인천구월도매</td>\n",
              "      <td>인천농산물</td>\n",
              "      <td>얼갈이배추</td>\n",
              "      <td>얼갈이배추</td>\n",
              "      <td>kg</td>\n",
              "      <td>상자</td>\n",
              "      <td>.</td>\n",
              "      <td>상</td>\n",
              "      <td>경기도 남양주시</td>\n",
              "      <td>4.0</td>\n",
              "      <td>36.0</td>\n",
              "      <td>4500.0</td>\n",
              "      <td>144.0</td>\n",
              "      <td>162000.0</td>\n",
              "    </tr>\n",
              "    <tr>\n",
              "      <th>40183945</th>\n",
              "      <td>2020-09-28</td>\n",
              "      <td>인천구월도매</td>\n",
              "      <td>인천농산물</td>\n",
              "      <td>얼갈이배추</td>\n",
              "      <td>얼갈이배추</td>\n",
              "      <td>kg</td>\n",
              "      <td>상자</td>\n",
              "      <td>.</td>\n",
              "      <td>상</td>\n",
              "      <td>경기도 남양주시</td>\n",
              "      <td>4.0</td>\n",
              "      <td>36.0</td>\n",
              "      <td>4500.0</td>\n",
              "      <td>144.0</td>\n",
              "      <td>162000.0</td>\n",
              "    </tr>\n",
              "    <tr>\n",
              "      <th>40183946</th>\n",
              "      <td>2020-09-28</td>\n",
              "      <td>인천구월도매</td>\n",
              "      <td>인천농산물</td>\n",
              "      <td>얼갈이배추</td>\n",
              "      <td>얼갈이배추</td>\n",
              "      <td>kg</td>\n",
              "      <td>상자</td>\n",
              "      <td>.</td>\n",
              "      <td>상</td>\n",
              "      <td>경기도 남양주시</td>\n",
              "      <td>4.0</td>\n",
              "      <td>35.0</td>\n",
              "      <td>4500.0</td>\n",
              "      <td>140.0</td>\n",
              "      <td>157500.0</td>\n",
              "    </tr>\n",
              "    <tr>\n",
              "      <th>40183947</th>\n",
              "      <td>2020-09-28</td>\n",
              "      <td>인천구월도매</td>\n",
              "      <td>인천농산물</td>\n",
              "      <td>떫은감</td>\n",
              "      <td>연시</td>\n",
              "      <td>kg</td>\n",
              "      <td>상자</td>\n",
              "      <td>.</td>\n",
              "      <td>상</td>\n",
              "      <td>경상북도 경산시</td>\n",
              "      <td>4.5</td>\n",
              "      <td>1.0</td>\n",
              "      <td>2000.0</td>\n",
              "      <td>4.5</td>\n",
              "      <td>2000.0</td>\n",
              "    </tr>\n",
              "    <tr>\n",
              "      <th>40183948</th>\n",
              "      <td>2020-09-28</td>\n",
              "      <td>서울강서도매</td>\n",
              "      <td>강서청과</td>\n",
              "      <td>무</td>\n",
              "      <td>기타무</td>\n",
              "      <td>kg</td>\n",
              "      <td>.</td>\n",
              "      <td>2개</td>\n",
              "      <td>.</td>\n",
              "      <td>광주 북구</td>\n",
              "      <td>20.0</td>\n",
              "      <td>42.0</td>\n",
              "      <td>17000.0</td>\n",
              "      <td>840.0</td>\n",
              "      <td>714000.0</td>\n",
              "    </tr>\n",
              "  </tbody>\n",
              "</table>\n",
              "<p>40183949 rows × 15 columns</p>\n",
              "</div>"
            ],
            "text/plain": [
              "            SALEDATE WHSAL_NM CMP_NM PUM_NM  ...   QTY     COST TOT_QTY   TOT_AMT\n",
              "0           20190710   대구북부도매   대양청과     호박  ...  32.0   6000.0   320.0  192000.0\n",
              "1           20190710   대구북부도매   대양청과     호박  ...  16.0   7000.0   160.0  112000.0\n",
              "2           20190710   대구북부도매   대양청과     호박  ...  12.0   5500.0   120.0   66000.0\n",
              "3           20190710   대구북부도매   대양청과     호박  ...   1.0   2000.0    10.0    2000.0\n",
              "4           20190710   대구북부도매   대양청과     호박  ...  18.0   5500.0   180.0   99000.0\n",
              "...              ...      ...    ...    ...  ...   ...      ...     ...       ...\n",
              "40183944  2020-09-28   인천구월도매  인천농산물  얼갈이배추  ...  36.0   4500.0   144.0  162000.0\n",
              "40183945  2020-09-28   인천구월도매  인천농산물  얼갈이배추  ...  36.0   4500.0   144.0  162000.0\n",
              "40183946  2020-09-28   인천구월도매  인천농산물  얼갈이배추  ...  35.0   4500.0   140.0  157500.0\n",
              "40183947  2020-09-28   인천구월도매  인천농산물    떫은감  ...   1.0   2000.0     4.5    2000.0\n",
              "40183948  2020-09-28   서울강서도매   강서청과      무  ...  42.0  17000.0   840.0  714000.0\n",
              "\n",
              "[40183949 rows x 15 columns]"
            ]
          },
          "metadata": {},
          "execution_count": 21
        }
      ]
    },
    {
      "cell_type": "code",
      "metadata": {
        "colab": {
          "base_uri": "https://localhost:8080/"
        },
        "id": "NRrrvXTDoMry",
        "outputId": "903af334-1817-4ab4-dfc3-1f21169d346c"
      },
      "source": [
        "40183949 * 9"
      ],
      "execution_count": null,
      "outputs": [
        {
          "output_type": "execute_result",
          "data": {
            "text/plain": [
              "361655541"
            ]
          },
          "metadata": {},
          "execution_count": 22
        }
      ]
    },
    {
      "cell_type": "code",
      "metadata": {
        "id": "COPXL7i4AqTi"
      },
      "source": [
        "(3억6천만)"
      ],
      "execution_count": null,
      "outputs": []
    },
    {
      "cell_type": "code",
      "metadata": {
        "id": "HIP0HGPr3yqn"
      },
      "source": [
        "import pickle\n",
        "import gzip\n",
        "\n",
        "data = {\n",
        "    'a': [1, 2.0, 3, 4+6j],\n",
        "    'b': (\"character string\", b\"byte string\"),\n",
        "    'c': {None, True, False}\n",
        "}\n",
        "\n",
        "# save and compress.\n",
        "with gzip.open('testPickleFile.pickle', 'wb') as f:\n",
        "    pickle.dump(data, f)\n",
        "\n",
        "# load and uncompress.\n",
        "with gzip.open('testPickleFile.pickle','rb') as f:\n",
        "    data = pickle.load(f)\n"
      ],
      "execution_count": null,
      "outputs": []
    },
    {
      "cell_type": "code",
      "metadata": {
        "id": "D_F0DD1W4Vgu"
      },
      "source": [
        "tot_df = pd.concat([df1, df2, df3, df4, df5, df6, df7, df8, df9, df10], ignore_index=True, axis=0)\n",
        "\n",
        "# tot_df.to_pickle(\"/content/drive/MyDrive/멀캠_장보고/농산물_가격예측_AI 경진대회/public_data/TOTAL.pkl\")"
      ],
      "execution_count": null,
      "outputs": []
    },
    {
      "cell_type": "code",
      "metadata": {
        "id": "HRJuLxNr5KgP"
      },
      "source": [
        "tot_df.to_pickle(\"/content/drive/MyDrive/멀캠_장보고/농산물_가격예측_AI 경진대회/public_data/TOTAL.pkl\")"
      ],
      "execution_count": null,
      "outputs": []
    },
    {
      "cell_type": "code",
      "metadata": {
        "colab": {
          "base_uri": "https://localhost:8080/"
        },
        "id": "yd-IBh-N4vfl",
        "outputId": "e279f9b9-49ed-4725-b564-569e13e88513"
      },
      "source": [
        "tot_df.info()"
      ],
      "execution_count": null,
      "outputs": [
        {
          "output_type": "stream",
          "name": "stdout",
          "text": [
            "<class 'pandas.core.frame.DataFrame'>\n",
            "RangeIndex: 34086221 entries, 0 to 34086220\n",
            "Data columns (total 15 columns):\n",
            " #   Column    Dtype  \n",
            "---  ------    -----  \n",
            " 0   SALEDATE  object \n",
            " 1   WHSAL_NM  object \n",
            " 2   CMP_NM    object \n",
            " 3   PUM_NM    object \n",
            " 4   KIND_NM   object \n",
            " 5   DAN_NM    object \n",
            " 6   POJ_NM    object \n",
            " 7   SIZE_NM   object \n",
            " 8   LV_NM     object \n",
            " 9   SAN_NM    object \n",
            " 10  DANQ      float64\n",
            " 11  QTY       int64  \n",
            " 12  COST      float64\n",
            " 13  TOT_QTY   float64\n",
            " 14  TOT_AMT   int64  \n",
            "dtypes: float64(3), int64(2), object(10)\n",
            "memory usage: 3.8+ GB\n"
          ]
        }
      ]
    },
    {
      "cell_type": "code",
      "metadata": {
        "id": "vBk46zbf4z0m"
      },
      "source": [
        ""
      ],
      "execution_count": null,
      "outputs": []
    }
  ]
}