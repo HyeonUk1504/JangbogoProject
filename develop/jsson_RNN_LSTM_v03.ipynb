{
 "cells": [
  {
   "cell_type": "code",
   "execution_count": 2,
   "metadata": {},
   "outputs": [],
   "source": [
    "import numpy as np \n",
    "import pandas as pd \n",
    "import matplotlib.pyplot as plt \n",
    "import tensorflow as tf \n",
    "\n",
    "# 범주형 수치형 인코딩 및 정규화 \n",
    "from sklearn.preprocessing import LabelEncoder\n",
    "from sklearn.preprocessing import OneHotEncoder\n",
    "from sklearn.preprocessing import MinMaxScaler\n",
    "from sklearn.preprocessing import RobustScaler\n",
    "\n",
    "keras = tf.keras"
   ]
  },
  {
   "cell_type": "code",
   "execution_count": 3,
   "metadata": {},
   "outputs": [],
   "source": [
    "import tensorflow as tf\n",
    "\n",
    "from math import sqrt\n",
    "from matplotlib import pyplot\n",
    "\n",
    "from sklearn.metrics import mean_squared_error\n",
    "from sklearn.metrics import r2_score\n",
    "\n",
    "from keras.models import Sequential\n",
    "from keras.layers import Dense\n",
    "from keras.layers import LSTM\n",
    "\n",
    "keras = tf.keras"
   ]
  },
  {
   "cell_type": "code",
   "execution_count": 4,
   "metadata": {},
   "outputs": [],
   "source": [
    "# 한글 표기를 위한 처리\n",
    "\n",
    "import matplotlib\n",
    "import matplotlib.pyplot as plt\n",
    "\n",
    "from matplotlib import font_manager, rc\n",
    "import platform\n",
    "if platform.system()==\"Windows\":\n",
    "    font_name=font_manager.FontProperties(fname=\"c:/Windows/Fonts/malgun.ttf\").get_name()\n",
    "    rc('font', family=font_name)\n",
    "matplotlib.rcParams['axes.unicode_minus']=False\n",
    "\n",
    "import warnings\n",
    "warnings.filterwarnings(\"ignore\")"
   ]
  },
  {
   "cell_type": "markdown",
   "metadata": {},
   "source": []
  },
  {
   "cell_type": "code",
   "execution_count": 5,
   "metadata": {},
   "outputs": [
    {
     "data": {
      "text/html": [
       "<div>\n",
       "<style scoped>\n",
       "    .dataframe tbody tr th:only-of-type {\n",
       "        vertical-align: middle;\n",
       "    }\n",
       "\n",
       "    .dataframe tbody tr th {\n",
       "        vertical-align: top;\n",
       "    }\n",
       "\n",
       "    .dataframe thead th {\n",
       "        text-align: right;\n",
       "    }\n",
       "</style>\n",
       "<table border=\"1\" class=\"dataframe\">\n",
       "  <thead>\n",
       "    <tr style=\"text-align: right;\">\n",
       "      <th></th>\n",
       "      <th>date</th>\n",
       "      <th>요일</th>\n",
       "      <th>배추_거래량(kg)</th>\n",
       "      <th>배추_가격(원/kg)</th>\n",
       "      <th>무_거래량(kg)</th>\n",
       "      <th>무_가격(원/kg)</th>\n",
       "      <th>양파_거래량(kg)</th>\n",
       "      <th>양파_가격(원/kg)</th>\n",
       "      <th>건고추_거래량(kg)</th>\n",
       "      <th>건고추_가격(원/kg)</th>\n",
       "      <th>...</th>\n",
       "      <th>청상추_거래량(kg)</th>\n",
       "      <th>청상추_가격(원/kg)</th>\n",
       "      <th>백다다기_거래량(kg)</th>\n",
       "      <th>백다다기_가격(원/kg)</th>\n",
       "      <th>애호박_거래량(kg)</th>\n",
       "      <th>애호박_가격(원/kg)</th>\n",
       "      <th>캠벨얼리_거래량(kg)</th>\n",
       "      <th>캠벨얼리_가격(원/kg)</th>\n",
       "      <th>샤인마스캇_거래량(kg)</th>\n",
       "      <th>샤인마스캇_가격(원/kg)</th>\n",
       "    </tr>\n",
       "  </thead>\n",
       "  <tbody>\n",
       "    <tr>\n",
       "      <th>0</th>\n",
       "      <td>2016-01-01</td>\n",
       "      <td>금요일</td>\n",
       "      <td>0.0</td>\n",
       "      <td>0.0</td>\n",
       "      <td>0.0</td>\n",
       "      <td>0.0</td>\n",
       "      <td>0.0</td>\n",
       "      <td>0.0</td>\n",
       "      <td>0.0</td>\n",
       "      <td>0.0</td>\n",
       "      <td>...</td>\n",
       "      <td>0.0</td>\n",
       "      <td>0.0</td>\n",
       "      <td>0.0</td>\n",
       "      <td>0.0</td>\n",
       "      <td>0.0</td>\n",
       "      <td>0.0</td>\n",
       "      <td>0.0</td>\n",
       "      <td>0.0</td>\n",
       "      <td>0.0</td>\n",
       "      <td>0.0</td>\n",
       "    </tr>\n",
       "    <tr>\n",
       "      <th>1</th>\n",
       "      <td>2016-01-02</td>\n",
       "      <td>토요일</td>\n",
       "      <td>80860.0</td>\n",
       "      <td>329.0</td>\n",
       "      <td>80272.0</td>\n",
       "      <td>360.0</td>\n",
       "      <td>122787.5</td>\n",
       "      <td>1281.0</td>\n",
       "      <td>3.0</td>\n",
       "      <td>11000.0</td>\n",
       "      <td>...</td>\n",
       "      <td>5125.0</td>\n",
       "      <td>9235.0</td>\n",
       "      <td>434.0</td>\n",
       "      <td>2109.0</td>\n",
       "      <td>19159.0</td>\n",
       "      <td>2414.0</td>\n",
       "      <td>880.0</td>\n",
       "      <td>2014.0</td>\n",
       "      <td>0.0</td>\n",
       "      <td>0.0</td>\n",
       "    </tr>\n",
       "    <tr>\n",
       "      <th>2</th>\n",
       "      <td>2016-01-03</td>\n",
       "      <td>일요일</td>\n",
       "      <td>0.0</td>\n",
       "      <td>0.0</td>\n",
       "      <td>0.0</td>\n",
       "      <td>0.0</td>\n",
       "      <td>0.0</td>\n",
       "      <td>0.0</td>\n",
       "      <td>0.0</td>\n",
       "      <td>0.0</td>\n",
       "      <td>...</td>\n",
       "      <td>0.0</td>\n",
       "      <td>0.0</td>\n",
       "      <td>0.0</td>\n",
       "      <td>0.0</td>\n",
       "      <td>0.0</td>\n",
       "      <td>0.0</td>\n",
       "      <td>0.0</td>\n",
       "      <td>0.0</td>\n",
       "      <td>0.0</td>\n",
       "      <td>0.0</td>\n",
       "    </tr>\n",
       "    <tr>\n",
       "      <th>3</th>\n",
       "      <td>2016-01-04</td>\n",
       "      <td>월요일</td>\n",
       "      <td>1422742.5</td>\n",
       "      <td>478.0</td>\n",
       "      <td>1699653.7</td>\n",
       "      <td>382.0</td>\n",
       "      <td>2315079.0</td>\n",
       "      <td>1235.0</td>\n",
       "      <td>699.0</td>\n",
       "      <td>4464.0</td>\n",
       "      <td>...</td>\n",
       "      <td>38525.5</td>\n",
       "      <td>7631.0</td>\n",
       "      <td>500702.0</td>\n",
       "      <td>2046.0</td>\n",
       "      <td>620539.0</td>\n",
       "      <td>2018.0</td>\n",
       "      <td>2703.8</td>\n",
       "      <td>3885.0</td>\n",
       "      <td>0.0</td>\n",
       "      <td>0.0</td>\n",
       "    </tr>\n",
       "    <tr>\n",
       "      <th>4</th>\n",
       "      <td>2016-01-05</td>\n",
       "      <td>화요일</td>\n",
       "      <td>1167241.0</td>\n",
       "      <td>442.0</td>\n",
       "      <td>1423482.3</td>\n",
       "      <td>422.0</td>\n",
       "      <td>2092960.1</td>\n",
       "      <td>1213.0</td>\n",
       "      <td>1112.6</td>\n",
       "      <td>4342.0</td>\n",
       "      <td>...</td>\n",
       "      <td>32615.0</td>\n",
       "      <td>6926.0</td>\n",
       "      <td>147638.0</td>\n",
       "      <td>2268.0</td>\n",
       "      <td>231958.0</td>\n",
       "      <td>2178.0</td>\n",
       "      <td>8810.0</td>\n",
       "      <td>2853.0</td>\n",
       "      <td>0.0</td>\n",
       "      <td>0.0</td>\n",
       "    </tr>\n",
       "  </tbody>\n",
       "</table>\n",
       "<p>5 rows × 44 columns</p>\n",
       "</div>"
      ],
      "text/plain": [
       "         date   요일  배추_거래량(kg)  배추_가격(원/kg)  무_거래량(kg)  무_가격(원/kg)  \\\n",
       "0  2016-01-01  금요일         0.0          0.0        0.0         0.0   \n",
       "1  2016-01-02  토요일     80860.0        329.0    80272.0       360.0   \n",
       "2  2016-01-03  일요일         0.0          0.0        0.0         0.0   \n",
       "3  2016-01-04  월요일   1422742.5        478.0  1699653.7       382.0   \n",
       "4  2016-01-05  화요일   1167241.0        442.0  1423482.3       422.0   \n",
       "\n",
       "   양파_거래량(kg)  양파_가격(원/kg)  건고추_거래량(kg)  건고추_가격(원/kg)  ...  청상추_거래량(kg)  \\\n",
       "0         0.0          0.0          0.0           0.0  ...          0.0   \n",
       "1    122787.5       1281.0          3.0       11000.0  ...       5125.0   \n",
       "2         0.0          0.0          0.0           0.0  ...          0.0   \n",
       "3   2315079.0       1235.0        699.0        4464.0  ...      38525.5   \n",
       "4   2092960.1       1213.0       1112.6        4342.0  ...      32615.0   \n",
       "\n",
       "   청상추_가격(원/kg)  백다다기_거래량(kg)  백다다기_가격(원/kg)  애호박_거래량(kg)  애호박_가격(원/kg)  \\\n",
       "0           0.0           0.0            0.0          0.0           0.0   \n",
       "1        9235.0         434.0         2109.0      19159.0        2414.0   \n",
       "2           0.0           0.0            0.0          0.0           0.0   \n",
       "3        7631.0      500702.0         2046.0     620539.0        2018.0   \n",
       "4        6926.0      147638.0         2268.0     231958.0        2178.0   \n",
       "\n",
       "   캠벨얼리_거래량(kg)  캠벨얼리_가격(원/kg)  샤인마스캇_거래량(kg)  샤인마스캇_가격(원/kg)  \n",
       "0           0.0            0.0            0.0             0.0  \n",
       "1         880.0         2014.0            0.0             0.0  \n",
       "2           0.0            0.0            0.0             0.0  \n",
       "3        2703.8         3885.0            0.0             0.0  \n",
       "4        8810.0         2853.0            0.0             0.0  \n",
       "\n",
       "[5 rows x 44 columns]"
      ]
     },
     "execution_count": 5,
     "metadata": {},
     "output_type": "execute_result"
    }
   ],
   "source": [
    "# 데이터 로드\n",
    "df = pd.read_csv('../data/train.csv')\n",
    "df.head()"
   ]
  },
  {
   "cell_type": "code",
   "execution_count": 6,
   "metadata": {},
   "outputs": [],
   "source": [
    "# df.iloc[:, 1]"
   ]
  },
  {
   "cell_type": "code",
   "execution_count": 7,
   "metadata": {},
   "outputs": [],
   "source": [
    "cp_df = df.copy()"
   ]
  },
  {
   "cell_type": "code",
   "execution_count": 8,
   "metadata": {},
   "outputs": [],
   "source": [
    "# 요일 범주형 > 라벨인코딩 처리\n",
    "le = LabelEncoder()\n",
    "le.fit(cp_df.iloc[:, 1])\n",
    "cp_df['요일']=le.transform(cp_df.iloc[:, 1])"
   ]
  },
  {
   "cell_type": "code",
   "execution_count": 9,
   "metadata": {},
   "outputs": [],
   "source": [
    "# df.head()"
   ]
  },
  {
   "cell_type": "code",
   "execution_count": 10,
   "metadata": {},
   "outputs": [],
   "source": [
    "# 데이터 결측치 확인\n",
    "# for col in df.columns:\n",
    "#     print('column : {0} \\t\\t 결측치 : {1}'.format(col, df[col].isnull().sum()))"
   ]
  },
  {
   "cell_type": "code",
   "execution_count": 11,
   "metadata": {},
   "outputs": [],
   "source": [
    "# 이상치 확인\n",
    "# df[df.columns].boxplot(figsize=(20, 15)\n",
    "#                                     , vert=False\n",
    "#                                     , flierprops=dict(markerfacecolor='r', marker='s'))"
   ]
  },
  {
   "cell_type": "code",
   "execution_count": 12,
   "metadata": {},
   "outputs": [],
   "source": [
    "# 품목별 가격\n",
    "# df.iloc[:, 3::2].plot(figsize=(20, 30), subplots=True)"
   ]
  },
  {
   "cell_type": "code",
   "execution_count": 13,
   "metadata": {},
   "outputs": [],
   "source": [
    "# # 품목별 거래량\n",
    "# df.iloc[:, 2::1].plot(figsize=(20, 30), subplots=True)"
   ]
  },
  {
   "cell_type": "code",
   "execution_count": 14,
   "metadata": {},
   "outputs": [],
   "source": [
    "\n",
    "# df.iloc[:,3::2].hist(figsize=(20, 30))"
   ]
  },
  {
   "cell_type": "code",
   "execution_count": 15,
   "metadata": {},
   "outputs": [],
   "source": [
    "# 거래량\n",
    "# df.iloc[:,2::1].hist(figsize=(20, 30))"
   ]
  },
  {
   "cell_type": "code",
   "execution_count": 16,
   "metadata": {},
   "outputs": [
    {
     "data": {
      "text/html": [
       "<div>\n",
       "<style scoped>\n",
       "    .dataframe tbody tr th:only-of-type {\n",
       "        vertical-align: middle;\n",
       "    }\n",
       "\n",
       "    .dataframe tbody tr th {\n",
       "        vertical-align: top;\n",
       "    }\n",
       "\n",
       "    .dataframe thead th {\n",
       "        text-align: right;\n",
       "    }\n",
       "</style>\n",
       "<table border=\"1\" class=\"dataframe\">\n",
       "  <thead>\n",
       "    <tr style=\"text-align: right;\">\n",
       "      <th></th>\n",
       "      <th>date</th>\n",
       "      <th>요일</th>\n",
       "      <th>배추_거래량(kg)</th>\n",
       "      <th>배추_가격(원/kg)</th>\n",
       "      <th>무_거래량(kg)</th>\n",
       "      <th>무_가격(원/kg)</th>\n",
       "      <th>양파_거래량(kg)</th>\n",
       "      <th>양파_가격(원/kg)</th>\n",
       "      <th>건고추_거래량(kg)</th>\n",
       "      <th>건고추_가격(원/kg)</th>\n",
       "      <th>...</th>\n",
       "      <th>청상추_거래량(kg)</th>\n",
       "      <th>청상추_가격(원/kg)</th>\n",
       "      <th>백다다기_거래량(kg)</th>\n",
       "      <th>백다다기_가격(원/kg)</th>\n",
       "      <th>애호박_거래량(kg)</th>\n",
       "      <th>애호박_가격(원/kg)</th>\n",
       "      <th>캠벨얼리_거래량(kg)</th>\n",
       "      <th>캠벨얼리_가격(원/kg)</th>\n",
       "      <th>샤인마스캇_거래량(kg)</th>\n",
       "      <th>샤인마스캇_가격(원/kg)</th>\n",
       "    </tr>\n",
       "  </thead>\n",
       "  <tbody>\n",
       "    <tr>\n",
       "      <th>0</th>\n",
       "      <td>2016-01-01</td>\n",
       "      <td>0</td>\n",
       "      <td>0.0</td>\n",
       "      <td>0.0</td>\n",
       "      <td>0.0</td>\n",
       "      <td>0.0</td>\n",
       "      <td>0.0</td>\n",
       "      <td>0.0</td>\n",
       "      <td>0.0</td>\n",
       "      <td>0.0</td>\n",
       "      <td>...</td>\n",
       "      <td>0.0</td>\n",
       "      <td>0.0</td>\n",
       "      <td>0.0</td>\n",
       "      <td>0.0</td>\n",
       "      <td>0.0</td>\n",
       "      <td>0.0</td>\n",
       "      <td>0.0</td>\n",
       "      <td>0.0</td>\n",
       "      <td>0.0</td>\n",
       "      <td>0.0</td>\n",
       "    </tr>\n",
       "    <tr>\n",
       "      <th>1</th>\n",
       "      <td>2016-01-02</td>\n",
       "      <td>5</td>\n",
       "      <td>80860.0</td>\n",
       "      <td>329.0</td>\n",
       "      <td>80272.0</td>\n",
       "      <td>360.0</td>\n",
       "      <td>122787.5</td>\n",
       "      <td>1281.0</td>\n",
       "      <td>3.0</td>\n",
       "      <td>11000.0</td>\n",
       "      <td>...</td>\n",
       "      <td>5125.0</td>\n",
       "      <td>9235.0</td>\n",
       "      <td>434.0</td>\n",
       "      <td>2109.0</td>\n",
       "      <td>19159.0</td>\n",
       "      <td>2414.0</td>\n",
       "      <td>880.0</td>\n",
       "      <td>2014.0</td>\n",
       "      <td>0.0</td>\n",
       "      <td>0.0</td>\n",
       "    </tr>\n",
       "    <tr>\n",
       "      <th>2</th>\n",
       "      <td>2016-01-03</td>\n",
       "      <td>4</td>\n",
       "      <td>0.0</td>\n",
       "      <td>0.0</td>\n",
       "      <td>0.0</td>\n",
       "      <td>0.0</td>\n",
       "      <td>0.0</td>\n",
       "      <td>0.0</td>\n",
       "      <td>0.0</td>\n",
       "      <td>0.0</td>\n",
       "      <td>...</td>\n",
       "      <td>0.0</td>\n",
       "      <td>0.0</td>\n",
       "      <td>0.0</td>\n",
       "      <td>0.0</td>\n",
       "      <td>0.0</td>\n",
       "      <td>0.0</td>\n",
       "      <td>0.0</td>\n",
       "      <td>0.0</td>\n",
       "      <td>0.0</td>\n",
       "      <td>0.0</td>\n",
       "    </tr>\n",
       "    <tr>\n",
       "      <th>3</th>\n",
       "      <td>2016-01-04</td>\n",
       "      <td>3</td>\n",
       "      <td>1422742.5</td>\n",
       "      <td>478.0</td>\n",
       "      <td>1699653.7</td>\n",
       "      <td>382.0</td>\n",
       "      <td>2315079.0</td>\n",
       "      <td>1235.0</td>\n",
       "      <td>699.0</td>\n",
       "      <td>4464.0</td>\n",
       "      <td>...</td>\n",
       "      <td>38525.5</td>\n",
       "      <td>7631.0</td>\n",
       "      <td>500702.0</td>\n",
       "      <td>2046.0</td>\n",
       "      <td>620539.0</td>\n",
       "      <td>2018.0</td>\n",
       "      <td>2703.8</td>\n",
       "      <td>3885.0</td>\n",
       "      <td>0.0</td>\n",
       "      <td>0.0</td>\n",
       "    </tr>\n",
       "    <tr>\n",
       "      <th>4</th>\n",
       "      <td>2016-01-05</td>\n",
       "      <td>6</td>\n",
       "      <td>1167241.0</td>\n",
       "      <td>442.0</td>\n",
       "      <td>1423482.3</td>\n",
       "      <td>422.0</td>\n",
       "      <td>2092960.1</td>\n",
       "      <td>1213.0</td>\n",
       "      <td>1112.6</td>\n",
       "      <td>4342.0</td>\n",
       "      <td>...</td>\n",
       "      <td>32615.0</td>\n",
       "      <td>6926.0</td>\n",
       "      <td>147638.0</td>\n",
       "      <td>2268.0</td>\n",
       "      <td>231958.0</td>\n",
       "      <td>2178.0</td>\n",
       "      <td>8810.0</td>\n",
       "      <td>2853.0</td>\n",
       "      <td>0.0</td>\n",
       "      <td>0.0</td>\n",
       "    </tr>\n",
       "  </tbody>\n",
       "</table>\n",
       "<p>5 rows × 44 columns</p>\n",
       "</div>"
      ],
      "text/plain": [
       "         date  요일  배추_거래량(kg)  배추_가격(원/kg)  무_거래량(kg)  무_가격(원/kg)  양파_거래량(kg)  \\\n",
       "0  2016-01-01   0         0.0          0.0        0.0         0.0         0.0   \n",
       "1  2016-01-02   5     80860.0        329.0    80272.0       360.0    122787.5   \n",
       "2  2016-01-03   4         0.0          0.0        0.0         0.0         0.0   \n",
       "3  2016-01-04   3   1422742.5        478.0  1699653.7       382.0   2315079.0   \n",
       "4  2016-01-05   6   1167241.0        442.0  1423482.3       422.0   2092960.1   \n",
       "\n",
       "   양파_가격(원/kg)  건고추_거래량(kg)  건고추_가격(원/kg)  ...  청상추_거래량(kg)  청상추_가격(원/kg)  \\\n",
       "0          0.0          0.0           0.0  ...          0.0           0.0   \n",
       "1       1281.0          3.0       11000.0  ...       5125.0        9235.0   \n",
       "2          0.0          0.0           0.0  ...          0.0           0.0   \n",
       "3       1235.0        699.0        4464.0  ...      38525.5        7631.0   \n",
       "4       1213.0       1112.6        4342.0  ...      32615.0        6926.0   \n",
       "\n",
       "   백다다기_거래량(kg)  백다다기_가격(원/kg)  애호박_거래량(kg)  애호박_가격(원/kg)  캠벨얼리_거래량(kg)  \\\n",
       "0           0.0            0.0          0.0           0.0           0.0   \n",
       "1         434.0         2109.0      19159.0        2414.0         880.0   \n",
       "2           0.0            0.0          0.0           0.0           0.0   \n",
       "3      500702.0         2046.0     620539.0        2018.0        2703.8   \n",
       "4      147638.0         2268.0     231958.0        2178.0        8810.0   \n",
       "\n",
       "   캠벨얼리_가격(원/kg)  샤인마스캇_거래량(kg)  샤인마스캇_가격(원/kg)  \n",
       "0            0.0            0.0             0.0  \n",
       "1         2014.0            0.0             0.0  \n",
       "2            0.0            0.0             0.0  \n",
       "3         3885.0            0.0             0.0  \n",
       "4         2853.0            0.0             0.0  \n",
       "\n",
       "[5 rows x 44 columns]"
      ]
     },
     "execution_count": 16,
     "metadata": {},
     "output_type": "execute_result"
    }
   ],
   "source": [
    "cp_df.head(5)"
   ]
  },
  {
   "cell_type": "code",
   "execution_count": 17,
   "metadata": {},
   "outputs": [],
   "source": [
    "# 데이터 MinMaxScaler정규화 \n",
    "minmax = MinMaxScaler()\n",
    "minmax.fit(cp_df.iloc[:, 1:])\n",
    "cp_df.iloc[:, 1:]=minmax.transform(cp_df.iloc[:, 1:])\n",
    "# robust = RobustScaler()\n",
    "# robust.fit(df.iloc[:, 2:])\n",
    "# df.iloc[:, 2:]=minmax.transform(df.iloc[:, 2:])"
   ]
  },
  {
   "cell_type": "code",
   "execution_count": 18,
   "metadata": {},
   "outputs": [],
   "source": [
    "# baseline 기반으로 데이터 구분"
   ]
  },
  {
   "cell_type": "code",
   "execution_count": 19,
   "metadata": {},
   "outputs": [],
   "source": [
    "# train set => date 를 제외 \n",
    "input_col_list = cp_df.iloc[:, 1:].columns \n",
    "\n",
    "# ytrain set => date 요일 거래량을 제외 하고 가격 컬럼만 추출 \n",
    "label_col_list = cp_df.iloc[:, 3::2].columns"
   ]
  },
  {
   "cell_type": "code",
   "execution_count": 20,
   "metadata": {},
   "outputs": [],
   "source": [
    "# date index 로 설정\n",
    "# cp_df.index = cp_df['date']\n",
    "# cp_df.index.name = 'date'"
   ]
  },
  {
   "cell_type": "code",
   "execution_count": 21,
   "metadata": {},
   "outputs": [],
   "source": [
    "# for col in input_col_list: \n",
    "#     if \"가격\" in col:\n",
    "#         print(col)\n",
    "#     else:\n",
    "#         print(col)\n",
    "    "
   ]
  },
  {
   "cell_type": "code",
   "execution_count": 22,
   "metadata": {},
   "outputs": [],
   "source": [
    "# 이상치 확인\n",
    "# cp_df.iloc[:,3::3].boxplot(figsize=(20, 15)\n",
    "#                                     , vert=False\n",
    "#                                     , flierprops=dict(markerfacecolor='r', marker='s'))"
   ]
  },
  {
   "cell_type": "code",
   "execution_count": 23,
   "metadata": {},
   "outputs": [],
   "source": [
    "# 이상치 확인\n",
    "# cp_df.iloc[:, ::2].boxplot(figsize=(20, 15)\n",
    "#                                     , vert=False\n",
    "#                                     , flierprops=dict(markerfacecolor='r', marker='s'))"
   ]
  },
  {
   "cell_type": "code",
   "execution_count": 24,
   "metadata": {},
   "outputs": [],
   "source": [
    "# 이상치에 대한 처리 방안 ? "
   ]
  },
  {
   "cell_type": "code",
   "execution_count": 25,
   "metadata": {},
   "outputs": [
    {
     "name": "stdout",
     "output_type": "stream",
     "text": [
      "(1733, 44)\n",
      "label_col_list 21\n",
      "input_col_list 43\n"
     ]
    }
   ],
   "source": [
    "print(cp_df.shape)\n",
    "print(\"label_col_list\", len(label_col_list))\n",
    "print(\"input_col_list\", len(input_col_list))"
   ]
  },
  {
   "cell_type": "code",
   "execution_count": 26,
   "metadata": {},
   "outputs": [],
   "source": [
    "# baseline 하이퍼파라미터(참고용)\n",
    "# device = torch.device(\"cuda:0\")         # GPU 사용\n",
    "# target_n = 21                           # 맞춰야하는 품목/품종의 수\n",
    "# learning_rate = 5e-4                    # 학습률\n",
    "# BATCH_SIZE = 128                        # 배치사이즈\n",
    "# EPOCHS = 50                             # 총 eopochs\n",
    "# teacher_forcing = False                 # 교사강요 설정\n",
    "# n_layers = 3                            # rnn레이어 층\n",
    "# dropout = 0.2                           # 드롭아웃\n",
    "# window_size = 7                        # 인코더 시퀀스 길이\n",
    "# future_size = 7                        # 디코더 시퀀스 길이\n",
    "# hidden_dim = 128                        # rnn 히든차원\n",
    "# save_path = f'./models/best_model.pt'   # 모델 저장 경로"
   ]
  },
  {
   "cell_type": "code",
   "execution_count": 27,
   "metadata": {},
   "outputs": [],
   "source": [
    "# reframed = cp_df.shift(periods=7, axis=0)\n",
    "# reframed.reset_index(drop=True, inplace=True)\n",
    "# reframed.head(10)"
   ]
  },
  {
   "cell_type": "code",
   "execution_count": null,
   "metadata": {},
   "outputs": [],
   "source": []
  },
  {
   "cell_type": "code",
   "execution_count": 28,
   "metadata": {},
   "outputs": [
    {
     "data": {
      "text/html": [
       "<div>\n",
       "<style scoped>\n",
       "    .dataframe tbody tr th:only-of-type {\n",
       "        vertical-align: middle;\n",
       "    }\n",
       "\n",
       "    .dataframe tbody tr th {\n",
       "        vertical-align: top;\n",
       "    }\n",
       "\n",
       "    .dataframe thead th {\n",
       "        text-align: right;\n",
       "    }\n",
       "</style>\n",
       "<table border=\"1\" class=\"dataframe\">\n",
       "  <thead>\n",
       "    <tr style=\"text-align: right;\">\n",
       "      <th></th>\n",
       "      <th>date</th>\n",
       "      <th>요일</th>\n",
       "      <th>배추_거래량(kg)</th>\n",
       "      <th>배추_가격(원/kg)</th>\n",
       "      <th>무_거래량(kg)</th>\n",
       "      <th>무_가격(원/kg)</th>\n",
       "      <th>양파_거래량(kg)</th>\n",
       "      <th>양파_가격(원/kg)</th>\n",
       "      <th>건고추_거래량(kg)</th>\n",
       "      <th>건고추_가격(원/kg)</th>\n",
       "      <th>...</th>\n",
       "      <th>청상추_거래량(kg)</th>\n",
       "      <th>청상추_가격(원/kg)</th>\n",
       "      <th>백다다기_거래량(kg)</th>\n",
       "      <th>백다다기_가격(원/kg)</th>\n",
       "      <th>애호박_거래량(kg)</th>\n",
       "      <th>애호박_가격(원/kg)</th>\n",
       "      <th>캠벨얼리_거래량(kg)</th>\n",
       "      <th>캠벨얼리_가격(원/kg)</th>\n",
       "      <th>샤인마스캇_거래량(kg)</th>\n",
       "      <th>샤인마스캇_가격(원/kg)</th>\n",
       "    </tr>\n",
       "  </thead>\n",
       "  <tbody>\n",
       "    <tr>\n",
       "      <th>0</th>\n",
       "      <td>2016-01-01</td>\n",
       "      <td>0.000000</td>\n",
       "      <td>0.000000</td>\n",
       "      <td>0.0000</td>\n",
       "      <td>0.000000</td>\n",
       "      <td>0.000000</td>\n",
       "      <td>0.000000</td>\n",
       "      <td>0.0000</td>\n",
       "      <td>0.000000</td>\n",
       "      <td>0.000000</td>\n",
       "      <td>...</td>\n",
       "      <td>0.000000</td>\n",
       "      <td>0.000000</td>\n",
       "      <td>0.000000</td>\n",
       "      <td>0.000000</td>\n",
       "      <td>0.000000</td>\n",
       "      <td>0.000000</td>\n",
       "      <td>0.000000</td>\n",
       "      <td>0.00000</td>\n",
       "      <td>0.0</td>\n",
       "      <td>0.0</td>\n",
       "    </tr>\n",
       "    <tr>\n",
       "      <th>1</th>\n",
       "      <td>2016-01-02</td>\n",
       "      <td>0.833333</td>\n",
       "      <td>0.015520</td>\n",
       "      <td>0.0658</td>\n",
       "      <td>0.020797</td>\n",
       "      <td>0.264706</td>\n",
       "      <td>0.024437</td>\n",
       "      <td>0.6405</td>\n",
       "      <td>0.000007</td>\n",
       "      <td>0.064389</td>\n",
       "      <td>...</td>\n",
       "      <td>0.060900</td>\n",
       "      <td>0.511068</td>\n",
       "      <td>0.000197</td>\n",
       "      <td>0.398376</td>\n",
       "      <td>0.023032</td>\n",
       "      <td>0.356152</td>\n",
       "      <td>0.000590</td>\n",
       "      <td>0.08056</td>\n",
       "      <td>0.0</td>\n",
       "      <td>0.0</td>\n",
       "    </tr>\n",
       "    <tr>\n",
       "      <th>2</th>\n",
       "      <td>2016-01-03</td>\n",
       "      <td>0.666667</td>\n",
       "      <td>0.000000</td>\n",
       "      <td>0.0000</td>\n",
       "      <td>0.000000</td>\n",
       "      <td>0.000000</td>\n",
       "      <td>0.000000</td>\n",
       "      <td>0.0000</td>\n",
       "      <td>0.000000</td>\n",
       "      <td>0.000000</td>\n",
       "      <td>...</td>\n",
       "      <td>0.000000</td>\n",
       "      <td>0.000000</td>\n",
       "      <td>0.000000</td>\n",
       "      <td>0.000000</td>\n",
       "      <td>0.000000</td>\n",
       "      <td>0.000000</td>\n",
       "      <td>0.000000</td>\n",
       "      <td>0.00000</td>\n",
       "      <td>0.0</td>\n",
       "      <td>0.0</td>\n",
       "    </tr>\n",
       "    <tr>\n",
       "      <th>3</th>\n",
       "      <td>2016-01-04</td>\n",
       "      <td>0.500000</td>\n",
       "      <td>0.273068</td>\n",
       "      <td>0.0956</td>\n",
       "      <td>0.440354</td>\n",
       "      <td>0.280882</td>\n",
       "      <td>0.460735</td>\n",
       "      <td>0.6175</td>\n",
       "      <td>0.001690</td>\n",
       "      <td>0.026130</td>\n",
       "      <td>...</td>\n",
       "      <td>0.457792</td>\n",
       "      <td>0.422302</td>\n",
       "      <td>0.227365</td>\n",
       "      <td>0.386475</td>\n",
       "      <td>0.745976</td>\n",
       "      <td>0.297728</td>\n",
       "      <td>0.001814</td>\n",
       "      <td>0.15540</td>\n",
       "      <td>0.0</td>\n",
       "      <td>0.0</td>\n",
       "    </tr>\n",
       "    <tr>\n",
       "      <th>4</th>\n",
       "      <td>2016-01-05</td>\n",
       "      <td>1.000000</td>\n",
       "      <td>0.224029</td>\n",
       "      <td>0.0884</td>\n",
       "      <td>0.368802</td>\n",
       "      <td>0.310294</td>\n",
       "      <td>0.416530</td>\n",
       "      <td>0.6065</td>\n",
       "      <td>0.002690</td>\n",
       "      <td>0.025416</td>\n",
       "      <td>...</td>\n",
       "      <td>0.387559</td>\n",
       "      <td>0.383287</td>\n",
       "      <td>0.067041</td>\n",
       "      <td>0.428410</td>\n",
       "      <td>0.278846</td>\n",
       "      <td>0.321334</td>\n",
       "      <td>0.005911</td>\n",
       "      <td>0.11412</td>\n",
       "      <td>0.0</td>\n",
       "      <td>0.0</td>\n",
       "    </tr>\n",
       "  </tbody>\n",
       "</table>\n",
       "<p>5 rows × 44 columns</p>\n",
       "</div>"
      ],
      "text/plain": [
       "         date        요일  배추_거래량(kg)  배추_가격(원/kg)  무_거래량(kg)  무_가격(원/kg)  \\\n",
       "0  2016-01-01  0.000000    0.000000       0.0000   0.000000    0.000000   \n",
       "1  2016-01-02  0.833333    0.015520       0.0658   0.020797    0.264706   \n",
       "2  2016-01-03  0.666667    0.000000       0.0000   0.000000    0.000000   \n",
       "3  2016-01-04  0.500000    0.273068       0.0956   0.440354    0.280882   \n",
       "4  2016-01-05  1.000000    0.224029       0.0884   0.368802    0.310294   \n",
       "\n",
       "   양파_거래량(kg)  양파_가격(원/kg)  건고추_거래량(kg)  건고추_가격(원/kg)  ...  청상추_거래량(kg)  \\\n",
       "0    0.000000       0.0000     0.000000      0.000000  ...     0.000000   \n",
       "1    0.024437       0.6405     0.000007      0.064389  ...     0.060900   \n",
       "2    0.000000       0.0000     0.000000      0.000000  ...     0.000000   \n",
       "3    0.460735       0.6175     0.001690      0.026130  ...     0.457792   \n",
       "4    0.416530       0.6065     0.002690      0.025416  ...     0.387559   \n",
       "\n",
       "   청상추_가격(원/kg)  백다다기_거래량(kg)  백다다기_가격(원/kg)  애호박_거래량(kg)  애호박_가격(원/kg)  \\\n",
       "0      0.000000      0.000000       0.000000     0.000000      0.000000   \n",
       "1      0.511068      0.000197       0.398376     0.023032      0.356152   \n",
       "2      0.000000      0.000000       0.000000     0.000000      0.000000   \n",
       "3      0.422302      0.227365       0.386475     0.745976      0.297728   \n",
       "4      0.383287      0.067041       0.428410     0.278846      0.321334   \n",
       "\n",
       "   캠벨얼리_거래량(kg)  캠벨얼리_가격(원/kg)  샤인마스캇_거래량(kg)  샤인마스캇_가격(원/kg)  \n",
       "0      0.000000        0.00000            0.0             0.0  \n",
       "1      0.000590        0.08056            0.0             0.0  \n",
       "2      0.000000        0.00000            0.0             0.0  \n",
       "3      0.001814        0.15540            0.0             0.0  \n",
       "4      0.005911        0.11412            0.0             0.0  \n",
       "\n",
       "[5 rows x 44 columns]"
      ]
     },
     "execution_count": 28,
     "metadata": {},
     "output_type": "execute_result"
    }
   ],
   "source": [
    "cp_df.head(5)"
   ]
  },
  {
   "cell_type": "code",
   "execution_count": null,
   "metadata": {},
   "outputs": [],
   "source": [
    "window_size = 14\n",
    "future_size = 14\n",
    "\n",
    "# 과거 28일의 변화를 보고 미래 28일을 예측\n",
    "x_data = []\n",
    "y_data = []\n",
    "\n",
    "\n",
    "print(\"전처리 데이터 확인 : cp_df.shape:{0}\\twindows_size:{1}\\tfuture_size:{2}\\ndata.shape[0]-window_size-future_size:{3}\".format(cp_df.shape[0], window_size, future_size, cp_df.shape[0]-window_size-future_size))\n",
    "for i in range(cp_df.shape[0]-window_size-future_size):\n",
    "    print(\"=\"*50, \"\\ti cnt:\", i)\n",
    "    x = cp_df.iloc[i:i+window_size, 1:].to_numpy()\n",
    "    # pprint(, width=20, indent=4)\n",
    "    print(\"=\"*50, \"x_data make size : \", i, i+window_size)\n",
    "    y = cp_df.iloc[i+window_size:i+window_size+future_size, 3::2].to_numpy()\n",
    "    # pprint(y, width=20, indent=4)\n",
    "    print(\"=\"*50, \"y_data make size : \", i+window_size, i+window_size, future_size)\n",
    "    # y_0 = np.zeros([1, y.shape[1]]) # 디코더 첫 입력값 추가\n",
    "    # pprint(y_0, width=20, indent=4)\n",
    "    print(\"=\"*50)\n",
    "    x_data.append(x)\n",
    "    # y_data.append(np.concatenate([y_0, y], axis=0))\n",
    "    y_data.append(y)\n",
    "    print(\"=\"*50)"
   ]
  },
  {
   "cell_type": "code",
   "execution_count": 30,
   "metadata": {},
   "outputs": [],
   "source": [
    "x_data = np.array(x_data)\n",
    "y_data = np.array(y_data)"
   ]
  },
  {
   "cell_type": "code",
   "execution_count": 31,
   "metadata": {},
   "outputs": [
    {
     "data": {
      "text/plain": [
       "((1705, 14, 43), (1705, 14, 21))"
      ]
     },
     "execution_count": 31,
     "metadata": {},
     "output_type": "execute_result"
    }
   ],
   "source": [
    "x_data.shape, y_data.shape"
   ]
  },
  {
   "cell_type": "code",
   "execution_count": 32,
   "metadata": {},
   "outputs": [],
   "source": [
    "# pd.set_option('display.max_columns', 200)\n",
    "# row 생략 없이 출력\n",
    "pd.set_option('display.max_rows', None)\n",
    "# col 생략 없이 출력\n",
    "pd.set_option('display.max_columns', None)"
   ]
  },
  {
   "cell_type": "code",
   "execution_count": 33,
   "metadata": {},
   "outputs": [
    {
     "ename": "NameError",
     "evalue": "name 'reframed_df' is not defined",
     "output_type": "error",
     "traceback": [
      "\u001b[1;31m---------------------------------------------------------------------------\u001b[0m",
      "\u001b[1;31mNameError\u001b[0m                                 Traceback (most recent call last)",
      "\u001b[1;32m~\\AppData\\Local\\Temp/ipykernel_19264/4029818783.py\u001b[0m in \u001b[0;36m<module>\u001b[1;34m\u001b[0m\n\u001b[0;32m      1\u001b[0m \u001b[1;31m# 데이터 세트 분할\u001b[0m\u001b[1;33m\u001b[0m\u001b[1;33m\u001b[0m\u001b[1;33m\u001b[0m\u001b[0m\n\u001b[0;32m      2\u001b[0m \u001b[1;31m# 훈련, 검증, 테스트 데이터 세트 (70, 20, 10)\u001b[0m\u001b[1;33m\u001b[0m\u001b[1;33m\u001b[0m\u001b[1;33m\u001b[0m\u001b[0m\n\u001b[1;32m----> 3\u001b[1;33m \u001b[0mcolumn_indices\u001b[0m \u001b[1;33m=\u001b[0m \u001b[1;33m{\u001b[0m\u001b[0mname\u001b[0m\u001b[1;33m:\u001b[0m \u001b[0mi\u001b[0m \u001b[1;32mfor\u001b[0m \u001b[0mi\u001b[0m\u001b[1;33m,\u001b[0m \u001b[0mname\u001b[0m \u001b[1;32min\u001b[0m \u001b[0menumerate\u001b[0m\u001b[1;33m(\u001b[0m\u001b[0mreframed_df\u001b[0m\u001b[1;33m.\u001b[0m\u001b[0mcolumns\u001b[0m\u001b[1;33m)\u001b[0m\u001b[1;33m}\u001b[0m\u001b[1;33m\u001b[0m\u001b[1;33m\u001b[0m\u001b[0m\n\u001b[0m\u001b[0;32m      4\u001b[0m \u001b[1;31m# print(column_indices)\u001b[0m\u001b[1;33m\u001b[0m\u001b[1;33m\u001b[0m\u001b[1;33m\u001b[0m\u001b[0m\n",
      "\u001b[1;31mNameError\u001b[0m: name 'reframed_df' is not defined"
     ]
    }
   ],
   "source": [
    "# 데이터 세트 분할 \n",
    "# 훈련, 검증, 테스트 데이터 세트 (70, 20, 10) \n",
    "# column_indices = {name: i for i, name in enumerate(reframed_df.columns)}\n",
    "# print(column_indices)"
   ]
  },
  {
   "cell_type": "code",
   "execution_count": 43,
   "metadata": {},
   "outputs": [],
   "source": [
    "n = len(x_data)\n",
    "train_X = x_data[0:int(n*0.7)]\n",
    "val_X = x_data[int(n*0.7):int(n*0.9)]\n",
    "test_X = x_data[int(n*0.9):]\n",
    "\n",
    "num_features = x_data.shape[2]"
   ]
  },
  {
   "cell_type": "code",
   "execution_count": 45,
   "metadata": {},
   "outputs": [
    {
     "data": {
      "text/plain": [
       "((1705, 14, 43), 43)"
      ]
     },
     "execution_count": 45,
     "metadata": {},
     "output_type": "execute_result"
    }
   ],
   "source": [
    "x_data.shape"
   ]
  },
  {
   "cell_type": "code",
   "execution_count": 46,
   "metadata": {},
   "outputs": [],
   "source": [
    "n = len(y_data)\n",
    "train_y = y_data[0:int(n*0.7)]\n",
    "val_y = y_data[int(n*0.7):int(n*0.9)]\n",
    "test_y = y_data[int(n*0.9):]\n",
    "\n",
    "# num_features = y_data.shape[1]"
   ]
  },
  {
   "cell_type": "code",
   "execution_count": null,
   "metadata": {},
   "outputs": [],
   "source": []
  },
  {
   "cell_type": "code",
   "execution_count": 47,
   "metadata": {},
   "outputs": [],
   "source": [
    "# print(train_df.shape, val_df.shape, test_df.shape)\n",
    "# print(num_features)"
   ]
  },
  {
   "cell_type": "code",
   "execution_count": 48,
   "metadata": {},
   "outputs": [],
   "source": [
    "label_len = 21\n",
    "features_len = 43\n",
    "window_size = 14 # tiemstamp"
   ]
  },
  {
   "cell_type": "code",
   "execution_count": 49,
   "metadata": {},
   "outputs": [
    {
     "ename": "NameError",
     "evalue": "name 'train_df' is not defined",
     "output_type": "error",
     "traceback": [
      "\u001b[1;31m---------------------------------------------------------------------------\u001b[0m",
      "\u001b[1;31mNameError\u001b[0m                                 Traceback (most recent call last)",
      "\u001b[1;32m~\\AppData\\Local\\Temp/ipykernel_19264/3443163360.py\u001b[0m in \u001b[0;36m<module>\u001b[1;34m\u001b[0m\n\u001b[1;32m----> 1\u001b[1;33m \u001b[0mlen\u001b[0m\u001b[1;33m(\u001b[0m\u001b[0mtrain_df\u001b[0m\u001b[1;33m.\u001b[0m\u001b[0mcolumns\u001b[0m\u001b[1;33m)\u001b[0m\u001b[1;33m\u001b[0m\u001b[1;33m\u001b[0m\u001b[0m\n\u001b[0m",
      "\u001b[1;31mNameError\u001b[0m: name 'train_df' is not defined"
     ]
    }
   ],
   "source": [
    "len(train_df.columns)"
   ]
  },
  {
   "cell_type": "code",
   "execution_count": 51,
   "metadata": {},
   "outputs": [],
   "source": [
    "# train_df.head(10)"
   ]
  },
  {
   "cell_type": "code",
   "execution_count": 52,
   "metadata": {},
   "outputs": [],
   "source": [
    "# train_df.head(5)\n",
    "\n",
    "# features_col_list = [col for col in train_df.columns if '_tg' not in col]\n",
    "# # print(features_col_list)\n",
    "# # print(len(features_col_list))\n",
    "# label_col_list = [col for col in train_df.columns if '_tg' in col]\n",
    "# # print(label_col_list)\n",
    "# print(len(label_col_list))\n",
    "# print(len(features_col_list))\n"
   ]
  },
  {
   "cell_type": "code",
   "execution_count": null,
   "metadata": {},
   "outputs": [],
   "source": [
    "# baseline 하이퍼파라미터(참고용)\n",
    "# device = torch.device(\"cuda:0\")         # GPU 사용\n",
    "# target_n = 21                           # 맞춰야하는 품목/품종의 수\n",
    "# learning_rate = 5e-4                    # 학습률\n",
    "BATCH_SIZE = 128                        # 배치사이즈\n",
    "# EPOCHS = 50                             # 총 eopochs\n",
    "# teacher_forcing = False                 # 교사강요 설정\n",
    "# n_layers = 3                            # rnn레이어 층\n",
    "# dropout = 0.2                           # 드롭아웃\n",
    "# window_size = 7                        # 인코더 시퀀스 길이\n",
    "# future_size = 7                        # 디코더 시퀀스 길이\n",
    "# hidden_dim = 128                        # rnn 히든차원\n",
    "# save_path = f'./models/best_model.pt'   # 모델 저장 경로"
   ]
  },
  {
   "cell_type": "code",
   "execution_count": 53,
   "metadata": {},
   "outputs": [],
   "source": [
    "label_len = 21\n",
    "features_len = 43\n",
    "window_size = 14 # tiemstamp"
   ]
  },
  {
   "cell_type": "code",
   "execution_count": null,
   "metadata": {},
   "outputs": [],
   "source": []
  },
  {
   "cell_type": "code",
   "execution_count": 54,
   "metadata": {},
   "outputs": [
    {
     "data": {
      "text/plain": [
       "602"
      ]
     },
     "execution_count": 54,
     "metadata": {},
     "output_type": "execute_result"
    }
   ],
   "source": [
    "# num_features\n",
    "43*14"
   ]
  },
  {
   "cell_type": "code",
   "execution_count": 55,
   "metadata": {},
   "outputs": [],
   "source": [
    "# 입력값과 출력값으로 분리\n",
    "# train_X, train_y = train_df.iloc[:, :features_len*window_size], train_df.loc[:,label_col_list]\n",
    "# val_X, val_y = val_df.iloc[:, :features_len*window_size], val_df.loc[:,label_col_list]\n",
    "# test_X, test_y = test_df.iloc[:, :features_len*window_size], test_df.loc[:,label_col_list]"
   ]
  },
  {
   "cell_type": "code",
   "execution_count": 56,
   "metadata": {},
   "outputs": [],
   "source": [
    "# train_X"
   ]
  },
  {
   "cell_type": "code",
   "execution_count": 57,
   "metadata": {},
   "outputs": [
    {
     "name": "stdout",
     "output_type": "stream",
     "text": [
      "(1193, 14, 43) (1193, 14, 21)\n",
      "(341, 14, 43) (341, 14, 21)\n",
      "(171, 14, 43) (171, 14, 21)\n"
     ]
    }
   ],
   "source": [
    "print(train_X.shape, train_y.shape)\n",
    "print(val_X.shape, val_y.shape)\n",
    "print(test_X.shape, test_y.shape)"
   ]
  },
  {
   "cell_type": "code",
   "execution_count": 58,
   "metadata": {},
   "outputs": [],
   "source": [
    "# 범위, 타임스탬프, 컬럼\n",
    "# train_X = train_X.values.reshape((train_X.shape[0], window_size, features_len))\n",
    "# val_X = val_X.values.reshape((val_X.shape[0], window_size, features_len))\n",
    "# test_X = test_X.values.reshape((test_X.shape[0], window_size, features_len))\n"
   ]
  },
  {
   "cell_type": "code",
   "execution_count": 59,
   "metadata": {},
   "outputs": [],
   "source": [
    "# print(train_y.shape[0])\n",
    "# print(train_y.shape[1])\n"
   ]
  },
  {
   "cell_type": "code",
   "execution_count": 60,
   "metadata": {},
   "outputs": [],
   "source": [
    "# train_y = train_y.values.reshape((train_y.shape[0], train_y.shape[1]))\n",
    "# val_y = val_y.values.reshape((val_y.shape[0], val_y.shape[1]))\n",
    "# test_y = test_y.values.reshape((test_y.shape[0], test_y.shape[1]))\n",
    "# print(so_train_X.shape, train_y.shape, test_X.shape, test_y.shape)\n"
   ]
  },
  {
   "cell_type": "code",
   "execution_count": 61,
   "metadata": {},
   "outputs": [],
   "source": [
    "# train_y"
   ]
  },
  {
   "cell_type": "code",
   "execution_count": null,
   "metadata": {},
   "outputs": [],
   "source": []
  },
  {
   "cell_type": "code",
   "execution_count": 62,
   "metadata": {},
   "outputs": [
    {
     "name": "stdout",
     "output_type": "stream",
     "text": [
      "(1193, 14, 43) 1193 (1193, 14, 21)\n",
      "(1193, 14, 43) (1193, 14, 21) (171, 14, 43) (171, 14, 21)\n"
     ]
    }
   ],
   "source": [
    "print(train_X.shape, len(train_X), train_y.shape)\n",
    "print(train_X.shape, train_y.shape, test_X.shape, test_y.shape)"
   ]
  },
  {
   "cell_type": "code",
   "execution_count": 63,
   "metadata": {},
   "outputs": [
    {
     "name": "stdout",
     "output_type": "stream",
     "text": [
      "(1193, 14, 43) (1193, 14, 21)\n",
      "(341, 14, 43) (341, 14, 21)\n",
      "(171, 14, 43) (171, 14, 21)\n"
     ]
    }
   ],
   "source": [
    "print(train_X.shape, train_y.shape)\n",
    "print(val_X.shape, val_y.shape)\n",
    "print(test_X.shape, test_y.shape)"
   ]
  },
  {
   "cell_type": "code",
   "execution_count": 64,
   "metadata": {},
   "outputs": [],
   "source": [
    "keras.backend.clear_session()\n",
    "np.random.seed(1030)\n",
    "tf.random.set_seed(1030)"
   ]
  },
  {
   "cell_type": "code",
   "execution_count": 160,
   "metadata": {},
   "outputs": [],
   "source": [
    "# 하이퍼파라미터\n",
    "# device = torch.device(\"cuda:0\")         # GPU 사용\n",
    "\n",
    "# 입력/출력 품목/품종의 수\n",
    "features_n = 43                         # 입력 품목/품종의 수\n",
    "target_n = 21                           # 맞춰야하는 품목/품종의 수\n",
    "\n",
    "BATCH_SIZE = 128                        # 배치사이즈\n",
    "EPOCHS = 150                             # 총 eopochs\n",
    "# teacher_forcing = False               # 교사강요 설정\n",
    "# n_layers = 3                            # rnn레이어 층\n",
    "# dropout = 0.2                           # 드롭아웃\n",
    "window_size = 14                        # 인코더 시퀀스 길이, CNN Input shape\n",
    "future_size = 14                        # 디코더 시퀀스 길이\n",
    "hidden_dim = 128                        # rnn 히든차원\n",
    "save_path = f'./models/best_model.pt'   # 모델 저장 경로\n",
    "\n",
    "# Optimizer 함수 최적화 함수 파라미터\n",
    "lr_list = [1e-5, 1e-4, 1e-3] # 0.01 기준으로\n",
    "learning_rate = 5e-4                    # 학습률 0.0005\n",
    "# Loss(cost) 함수 손실 함수 파라미터\n",
    "\n",
    "# CNN + RNN 하이퍼 파라미터 \n",
    "CONV_WIDTH = [3, 5]\n",
    "filter_size = 32"
   ]
  },
  {
   "cell_type": "code",
   "execution_count": 161,
   "metadata": {},
   "outputs": [],
   "source": [
    "# 모델 구성 \n",
    "# conv_lstm_model = keras.Sequential([\n",
    "#     keras.layers.Conv1D(filters=filter_size, kernel_size=(CONV_WIDTH[1], ),\n",
    "#                            strides=1, padding=\"causal\", \n",
    "#                            activation=\"relu\", \n",
    "#                            input_shape=[window_size, features_n]), \n",
    "#     keras.layers.LSTM(32, activation='tanh'),\n",
    "#     keras.layers.LSTM(16, activation='relu'),\n",
    "#     keras.layers.Dense(target_n),\n",
    "# ])\n",
    "# conv_lstm_model.summary()"
   ]
  },
  {
   "cell_type": "code",
   "execution_count": 162,
   "metadata": {},
   "outputs": [
    {
     "name": "stdout",
     "output_type": "stream",
     "text": [
      "Model: \"sequential_1\"\n",
      "_________________________________________________________________\n",
      "Layer (type)                 Output Shape              Param #   \n",
      "=================================================================\n",
      "conv1d_1 (Conv1D)            (None, 14, 32)            6912      \n",
      "_________________________________________________________________\n",
      "lstm_2 (LSTM)                (None, 14, 32)            8320      \n",
      "_________________________________________________________________\n",
      "lstm_3 (LSTM)                (None, 14, 32)            8320      \n",
      "_________________________________________________________________\n",
      "dense_1 (Dense)              (None, 14, 21)            693       \n",
      "=================================================================\n",
      "Total params: 24,245\n",
      "Trainable params: 24,245\n",
      "Non-trainable params: 0\n",
      "_________________________________________________________________\n"
     ]
    }
   ],
   "source": [
    "# 모델 구성 \n",
    "conv_lstm_model = keras.Sequential([\n",
    "    keras.layers.Conv1D(filters=filter_size, kernel_size=(CONV_WIDTH[1], ),\n",
    "                           strides=1, padding=\"causal\", \n",
    "                           activation=\"relu\", \n",
    "                           input_shape=[window_size, features_n]), \n",
    "    keras.layers.LSTM(32, return_sequences=True),\n",
    "    keras.layers.LSTM(32, return_sequences=True),\n",
    "    keras.layers.Dense(target_n)\n",
    "])\n",
    "conv_lstm_model.summary()"
   ]
  },
  {
   "cell_type": "code",
   "execution_count": 163,
   "metadata": {},
   "outputs": [],
   "source": [
    "# 옵티마이저 및 로스 함수 정의 \n",
    "optimizer_func = keras.optimizers.Adam(learning_rate=learning_rate)\n",
    "# loss_func = keras.losses.MeanAbsoluteError() # MAE \n",
    "loss_func = keras.losses.Huber() # Huber 사용 MAE, MSE 를 합친 outlier 의 영향을 덜 받음  "
   ]
  },
  {
   "cell_type": "code",
   "execution_count": 164,
   "metadata": {},
   "outputs": [],
   "source": [
    "# earlystopping은 10번 epoch통안 val_loss 개선이 없다면 학습을 멈춥니다.\n",
    "earlystopping = keras.callbacks.EarlyStopping(monitor='val_loss'\n",
    "                              , patience=10\n",
    "                              , mode='min')\n",
    "# val_loss 기준 체크포인터 생성합니다.\n",
    "filename = os.path.join('tmp', 'ckeckpointer.ckpt')\n",
    "checkpoint = keras.callbacks.ModelCheckpoint(filename, \n",
    "                             save_weights_only=True, \n",
    "                             save_best_only=True, \n",
    "                             monitor='val_loss', \n",
    "                             verbose=1)"
   ]
  },
  {
   "cell_type": "code",
   "execution_count": 165,
   "metadata": {},
   "outputs": [
    {
     "name": "stdout",
     "output_type": "stream",
     "text": [
      "(1193, 14, 43) (1193, 14, 21)\n",
      "(341, 14, 43) (341, 14, 21)\n"
     ]
    }
   ],
   "source": [
    "print(train_X.shape, train_y.shape)\n",
    "print(val_X.shape, val_y.shape)"
   ]
  },
  {
   "cell_type": "code",
   "execution_count": 166,
   "metadata": {},
   "outputs": [
    {
     "name": "stdout",
     "output_type": "stream",
     "text": [
      "Epoch 1/150\n",
      "10/10 - 1s - loss: 0.0552 - mae: 0.2638 - val_loss: 0.0463 - val_mae: 0.2459\n",
      "Epoch 2/150\n",
      "10/10 - 0s - loss: 0.0419 - mae: 0.2282 - val_loss: 0.0363 - val_mae: 0.2123\n",
      "Epoch 3/150\n",
      "10/10 - 0s - loss: 0.0327 - mae: 0.1992 - val_loss: 0.0304 - val_mae: 0.1950\n",
      "Epoch 4/150\n",
      "10/10 - 0s - loss: 0.0273 - mae: 0.1814 - val_loss: 0.0265 - val_mae: 0.1805\n",
      "Epoch 5/150\n",
      "10/10 - 0s - loss: 0.0238 - mae: 0.1659 - val_loss: 0.0242 - val_mae: 0.1683\n",
      "Epoch 6/150\n",
      "10/10 - 0s - loss: 0.0216 - mae: 0.1543 - val_loss: 0.0226 - val_mae: 0.1602\n",
      "Epoch 7/150\n",
      "10/10 - 0s - loss: 0.0203 - mae: 0.1475 - val_loss: 0.0217 - val_mae: 0.1554\n",
      "Epoch 8/150\n",
      "10/10 - 0s - loss: 0.0194 - mae: 0.1435 - val_loss: 0.0209 - val_mae: 0.1520\n",
      "Epoch 9/150\n",
      "10/10 - 0s - loss: 0.0187 - mae: 0.1408 - val_loss: 0.0203 - val_mae: 0.1494\n",
      "Epoch 10/150\n",
      "10/10 - 0s - loss: 0.0181 - mae: 0.1384 - val_loss: 0.0198 - val_mae: 0.1473\n",
      "Epoch 11/150\n",
      "10/10 - 0s - loss: 0.0175 - mae: 0.1362 - val_loss: 0.0193 - val_mae: 0.1457\n",
      "Epoch 12/150\n",
      "10/10 - 0s - loss: 0.0170 - mae: 0.1342 - val_loss: 0.0190 - val_mae: 0.1442\n",
      "Epoch 13/150\n",
      "10/10 - 0s - loss: 0.0166 - mae: 0.1323 - val_loss: 0.0186 - val_mae: 0.1429\n",
      "Epoch 14/150\n",
      "10/10 - 0s - loss: 0.0161 - mae: 0.1305 - val_loss: 0.0183 - val_mae: 0.1415\n",
      "Epoch 15/150\n",
      "10/10 - 0s - loss: 0.0157 - mae: 0.1287 - val_loss: 0.0179 - val_mae: 0.1401\n",
      "Epoch 16/150\n",
      "10/10 - 0s - loss: 0.0153 - mae: 0.1270 - val_loss: 0.0175 - val_mae: 0.1386\n",
      "Epoch 17/150\n",
      "10/10 - 0s - loss: 0.0149 - mae: 0.1253 - val_loss: 0.0172 - val_mae: 0.1370\n",
      "Epoch 18/150\n",
      "10/10 - 0s - loss: 0.0145 - mae: 0.1235 - val_loss: 0.0168 - val_mae: 0.1354\n",
      "Epoch 19/150\n",
      "10/10 - 0s - loss: 0.0141 - mae: 0.1217 - val_loss: 0.0164 - val_mae: 0.1338\n",
      "Epoch 20/150\n",
      "10/10 - 0s - loss: 0.0137 - mae: 0.1198 - val_loss: 0.0160 - val_mae: 0.1322\n",
      "Epoch 21/150\n",
      "10/10 - 0s - loss: 0.0132 - mae: 0.1179 - val_loss: 0.0156 - val_mae: 0.1304\n",
      "Epoch 22/150\n",
      "10/10 - 0s - loss: 0.0128 - mae: 0.1159 - val_loss: 0.0152 - val_mae: 0.1287\n",
      "Epoch 23/150\n",
      "10/10 - 0s - loss: 0.0123 - mae: 0.1139 - val_loss: 0.0148 - val_mae: 0.1268\n",
      "Epoch 24/150\n",
      "10/10 - 0s - loss: 0.0119 - mae: 0.1119 - val_loss: 0.0143 - val_mae: 0.1250\n",
      "Epoch 25/150\n",
      "10/10 - 0s - loss: 0.0114 - mae: 0.1098 - val_loss: 0.0140 - val_mae: 0.1231\n",
      "Epoch 26/150\n",
      "10/10 - 0s - loss: 0.0110 - mae: 0.1078 - val_loss: 0.0136 - val_mae: 0.1213\n",
      "Epoch 27/150\n",
      "10/10 - 0s - loss: 0.0106 - mae: 0.1058 - val_loss: 0.0132 - val_mae: 0.1195\n",
      "Epoch 28/150\n",
      "10/10 - 0s - loss: 0.0103 - mae: 0.1038 - val_loss: 0.0129 - val_mae: 0.1176\n",
      "Epoch 29/150\n",
      "10/10 - 0s - loss: 0.0099 - mae: 0.1018 - val_loss: 0.0126 - val_mae: 0.1158\n",
      "Epoch 30/150\n",
      "10/10 - 0s - loss: 0.0096 - mae: 0.0998 - val_loss: 0.0123 - val_mae: 0.1141\n",
      "Epoch 31/150\n",
      "10/10 - 0s - loss: 0.0093 - mae: 0.0980 - val_loss: 0.0121 - val_mae: 0.1126\n",
      "Epoch 32/150\n",
      "10/10 - 0s - loss: 0.0090 - mae: 0.0963 - val_loss: 0.0119 - val_mae: 0.1111\n",
      "Epoch 33/150\n",
      "10/10 - 0s - loss: 0.0088 - mae: 0.0948 - val_loss: 0.0117 - val_mae: 0.1099\n",
      "Epoch 34/150\n",
      "10/10 - 0s - loss: 0.0085 - mae: 0.0933 - val_loss: 0.0115 - val_mae: 0.1088\n",
      "Epoch 35/150\n",
      "10/10 - 0s - loss: 0.0084 - mae: 0.0920 - val_loss: 0.0114 - val_mae: 0.1078\n",
      "Epoch 36/150\n",
      "10/10 - 0s - loss: 0.0082 - mae: 0.0908 - val_loss: 0.0113 - val_mae: 0.1069\n",
      "Epoch 37/150\n",
      "10/10 - 0s - loss: 0.0080 - mae: 0.0897 - val_loss: 0.0112 - val_mae: 0.1061\n",
      "Epoch 38/150\n",
      "10/10 - 0s - loss: 0.0079 - mae: 0.0887 - val_loss: 0.0110 - val_mae: 0.1054\n",
      "Epoch 39/150\n",
      "10/10 - 0s - loss: 0.0078 - mae: 0.0878 - val_loss: 0.0110 - val_mae: 0.1047\n",
      "Epoch 40/150\n",
      "10/10 - 0s - loss: 0.0077 - mae: 0.0870 - val_loss: 0.0109 - val_mae: 0.1041\n",
      "Epoch 41/150\n",
      "10/10 - 0s - loss: 0.0076 - mae: 0.0863 - val_loss: 0.0108 - val_mae: 0.1036\n",
      "Epoch 42/150\n",
      "10/10 - 0s - loss: 0.0075 - mae: 0.0856 - val_loss: 0.0107 - val_mae: 0.1031\n",
      "Epoch 43/150\n",
      "10/10 - 0s - loss: 0.0074 - mae: 0.0849 - val_loss: 0.0107 - val_mae: 0.1027\n",
      "Epoch 44/150\n",
      "10/10 - 0s - loss: 0.0073 - mae: 0.0844 - val_loss: 0.0106 - val_mae: 0.1023\n",
      "Epoch 45/150\n",
      "10/10 - 0s - loss: 0.0072 - mae: 0.0838 - val_loss: 0.0106 - val_mae: 0.1020\n",
      "Epoch 46/150\n",
      "10/10 - 0s - loss: 0.0072 - mae: 0.0833 - val_loss: 0.0106 - val_mae: 0.1017\n",
      "Epoch 47/150\n",
      "10/10 - 0s - loss: 0.0071 - mae: 0.0828 - val_loss: 0.0105 - val_mae: 0.1015\n",
      "Epoch 48/150\n",
      "10/10 - 0s - loss: 0.0070 - mae: 0.0824 - val_loss: 0.0105 - val_mae: 0.1012\n",
      "Epoch 49/150\n",
      "10/10 - 0s - loss: 0.0070 - mae: 0.0819 - val_loss: 0.0105 - val_mae: 0.1010\n",
      "Epoch 50/150\n",
      "10/10 - 0s - loss: 0.0069 - mae: 0.0815 - val_loss: 0.0105 - val_mae: 0.1008\n",
      "Epoch 51/150\n",
      "10/10 - 0s - loss: 0.0069 - mae: 0.0811 - val_loss: 0.0104 - val_mae: 0.1006\n",
      "Epoch 52/150\n",
      "10/10 - 0s - loss: 0.0068 - mae: 0.0807 - val_loss: 0.0104 - val_mae: 0.1004\n",
      "Epoch 53/150\n",
      "10/10 - 0s - loss: 0.0068 - mae: 0.0804 - val_loss: 0.0104 - val_mae: 0.1002\n",
      "Epoch 54/150\n",
      "10/10 - 0s - loss: 0.0067 - mae: 0.0800 - val_loss: 0.0104 - val_mae: 0.1001\n",
      "Epoch 55/150\n",
      "10/10 - 0s - loss: 0.0067 - mae: 0.0797 - val_loss: 0.0103 - val_mae: 0.1000\n",
      "Epoch 56/150\n",
      "10/10 - 0s - loss: 0.0066 - mae: 0.0794 - val_loss: 0.0103 - val_mae: 0.0998\n",
      "Epoch 57/150\n",
      "10/10 - 0s - loss: 0.0066 - mae: 0.0791 - val_loss: 0.0103 - val_mae: 0.0997\n",
      "Epoch 58/150\n",
      "10/10 - 0s - loss: 0.0065 - mae: 0.0788 - val_loss: 0.0103 - val_mae: 0.0996\n",
      "Epoch 59/150\n",
      "10/10 - 0s - loss: 0.0065 - mae: 0.0786 - val_loss: 0.0103 - val_mae: 0.0995\n",
      "Epoch 60/150\n",
      "10/10 - 0s - loss: 0.0065 - mae: 0.0783 - val_loss: 0.0102 - val_mae: 0.0994\n",
      "Epoch 61/150\n",
      "10/10 - 0s - loss: 0.0064 - mae: 0.0781 - val_loss: 0.0102 - val_mae: 0.0993\n",
      "Epoch 62/150\n",
      "10/10 - 0s - loss: 0.0064 - mae: 0.0778 - val_loss: 0.0102 - val_mae: 0.0992\n",
      "Epoch 63/150\n",
      "10/10 - 0s - loss: 0.0064 - mae: 0.0776 - val_loss: 0.0102 - val_mae: 0.0991\n",
      "Epoch 64/150\n",
      "10/10 - 0s - loss: 0.0063 - mae: 0.0773 - val_loss: 0.0102 - val_mae: 0.0991\n",
      "Epoch 65/150\n",
      "10/10 - 0s - loss: 0.0063 - mae: 0.0771 - val_loss: 0.0102 - val_mae: 0.0990\n",
      "Epoch 66/150\n",
      "10/10 - 0s - loss: 0.0063 - mae: 0.0769 - val_loss: 0.0102 - val_mae: 0.0989\n",
      "Epoch 67/150\n",
      "10/10 - 0s - loss: 0.0062 - mae: 0.0766 - val_loss: 0.0101 - val_mae: 0.0989\n",
      "Epoch 68/150\n",
      "10/10 - 0s - loss: 0.0062 - mae: 0.0764 - val_loss: 0.0101 - val_mae: 0.0988\n",
      "Epoch 69/150\n",
      "10/10 - 0s - loss: 0.0062 - mae: 0.0762 - val_loss: 0.0101 - val_mae: 0.0987\n",
      "Epoch 70/150\n",
      "10/10 - 0s - loss: 0.0061 - mae: 0.0760 - val_loss: 0.0101 - val_mae: 0.0987\n",
      "Epoch 71/150\n",
      "10/10 - 0s - loss: 0.0061 - mae: 0.0758 - val_loss: 0.0101 - val_mae: 0.0987\n",
      "Epoch 72/150\n",
      "10/10 - 0s - loss: 0.0061 - mae: 0.0755 - val_loss: 0.0101 - val_mae: 0.0987\n",
      "Epoch 73/150\n",
      "10/10 - 0s - loss: 0.0061 - mae: 0.0753 - val_loss: 0.0101 - val_mae: 0.0987\n",
      "Epoch 74/150\n",
      "10/10 - 0s - loss: 0.0060 - mae: 0.0751 - val_loss: 0.0101 - val_mae: 0.0987\n",
      "Epoch 75/150\n",
      "10/10 - 0s - loss: 0.0060 - mae: 0.0749 - val_loss: 0.0101 - val_mae: 0.0988\n",
      "Epoch 76/150\n",
      "10/10 - 0s - loss: 0.0060 - mae: 0.0747 - val_loss: 0.0102 - val_mae: 0.0988\n",
      "Epoch 77/150\n",
      "10/10 - 0s - loss: 0.0060 - mae: 0.0745 - val_loss: 0.0102 - val_mae: 0.0989\n",
      "Epoch 78/150\n",
      "10/10 - 0s - loss: 0.0059 - mae: 0.0744 - val_loss: 0.0102 - val_mae: 0.0991\n",
      "Epoch 79/150\n",
      "10/10 - 0s - loss: 0.0059 - mae: 0.0742 - val_loss: 0.0102 - val_mae: 0.0992\n",
      "Epoch 80/150\n",
      "10/10 - 0s - loss: 0.0059 - mae: 0.0740 - val_loss: 0.0103 - val_mae: 0.0994\n",
      "Epoch 81/150\n",
      "10/10 - 0s - loss: 0.0059 - mae: 0.0739 - val_loss: 0.0103 - val_mae: 0.0996\n"
     ]
    }
   ],
   "source": [
    "conv_lstm_model.compile(loss=loss_func,\n",
    "                optimizer=optimizer_func,\n",
    "                metrics=[\"mae\"])\n",
    "\n",
    "hist=conv_lstm_model.fit(train_X, train_y, epochs=EPOCHS, batch_size=BATCH_SIZE\n",
    "                         , validation_data=(val_X, val_y), callbacks=[earlystopping]\n",
    "                         , verbose=2, shuffle=False)"
   ]
  },
  {
   "cell_type": "code",
   "execution_count": null,
   "metadata": {},
   "outputs": [],
   "source": [
    "# 저장한 데이터를 로드\n",
    "# conv_lstm_model.load_weights(filename)"
   ]
  },
  {
   "cell_type": "code",
   "execution_count": 168,
   "metadata": {},
   "outputs": [],
   "source": [
    "pred = conv_lstm_model.predict(test_X)\n",
    "yhat = pred.reshape(pred.shape[0]*pred.shape[1], pred.shape[2])"
   ]
  },
  {
   "cell_type": "code",
   "execution_count": 118,
   "metadata": {},
   "outputs": [
    {
     "data": {
      "text/plain": [
       "(171, 14, 21)"
      ]
     },
     "execution_count": 118,
     "metadata": {},
     "output_type": "execute_result"
    }
   ],
   "source": [
    "pred.shape"
   ]
  },
  {
   "cell_type": "code",
   "execution_count": 152,
   "metadata": {},
   "outputs": [],
   "source": [
    "# test_y.shape\n",
    "testy_df=pd.DataFrame(test_y.reshape(test_y.shape[0]*test_y.shape[1], test_y.shape[2]))"
   ]
  },
  {
   "cell_type": "code",
   "execution_count": 151,
   "metadata": {},
   "outputs": [],
   "source": [
    "# np.asarray(test_y)[20:]\n",
    "yhat_df=pd.DataFrame(yhat)"
   ]
  },
  {
   "cell_type": "code",
   "execution_count": 155,
   "metadata": {},
   "outputs": [],
   "source": [
    "# yhat_df"
   ]
  },
  {
   "cell_type": "code",
   "execution_count": 169,
   "metadata": {},
   "outputs": [
    {
     "data": {
      "image/png": "[encoded data removed]",
      "text/plain": [
       "<Figure size 1440x1080 with 1 Axes>"
      ]
     },
     "metadata": {
      "needs_background": "light"
     },
     "output_type": "display_data"
    }
   ],
   "source": [
    "# 예측 데이터 시각화 \n",
    "plt.figure(figsize=(20, 15))\n",
    "# plt.plot(np.asarray(test_y.reshape(test_y.shape[0]*test_y.shape[1], test_y.shape[2]))[14:, 0], label='actual')\n",
    "# plt.plot(yhat[:, 0], label='prediction')\n",
    "plt.plot(testy_df.iloc[:, 0], label='actual')\n",
    "plt.plot(yhat_df.iloc[:, 0], label='prediction')\n",
    "plt.legend()\n",
    "plt.show()"
   ]
  },
  {
   "cell_type": "code",
   "execution_count": 170,
   "metadata": {},
   "outputs": [
    {
     "name": "stdout",
     "output_type": "stream",
     "text": [
      "11/11 - 0s - loss: 0.0103 - mae: 0.0996\n",
      "6/6 - 0s - loss: 0.0090 - mae: 0.0916\n",
      "검증 데이터로 예측모델 평가:  [0.010302512906491756, 0.09957059472799301]\n",
      "테스트 데이터로 예측모델 평가 [0.009018936194479465, 0.09161344170570374]\n",
      "(171, 14, 21)\n"
     ]
    }
   ],
   "source": [
    "#  검증 데이터로 예측모델 평가\n",
    "val_evaluate = conv_lstm_model.evaluate(val_X, val_y, verbose=2)\n",
    "\n",
    "#  테스트 데이터로 예측모델 평가\n",
    "test_evaluate = conv_lstm_model.evaluate(test_X, test_y, verbose=2)\n",
    "print(\"검증 데이터로 예측모델 평가: \", val_evaluate)\n",
    "print(\"테스트 데이터로 예측모델 평가\", test_evaluate)\n",
    "\n",
    "# r2 score value \n",
    "yhat = conv_lstm_model.predict(test_X)\n",
    "print(yhat.shape)"
   ]
  },
  {
   "cell_type": "code",
   "execution_count": 114,
   "metadata": {},
   "outputs": [],
   "source": [
    "# test_y.shape\n",
    "# test_y.shape\n",
    "# test_y[170:][0][13]\n",
    "# yhat.shape\n",
    "# from sklearn.metrics import accuracy_score\n",
    "# accuracy_score(test_y[170:][0][13], yhat[170:][0][13])\n",
    "# test_y.reshape(171*14, 21)"
   ]
  },
  {
   "cell_type": "code",
   "execution_count": 171,
   "metadata": {},
   "outputs": [
    {
     "name": "stdout",
     "output_type": "stream",
     "text": [
      "r2 score : 0.4299225618545176\n"
     ]
    }
   ],
   "source": [
    "# yhat=yhat.reshape(yhat.shape[0])\n",
    "print(\"r2 score :\", r2_score(test_y.reshape(test_y.shape[0]*test_y.shape[1], test_y.shape[2])[13:]\n",
    "                             , yhat.reshape(yhat.shape[0]*yhat.shape[1], yhat.shape[2])[13:]))"
   ]
  },
  {
   "cell_type": "code",
   "execution_count": 172,
   "metadata": {},
   "outputs": [
    {
     "data": {
      "image/png": "[encoded data removed]",
      "text/plain": [
       "<Figure size 432x288 with 2 Axes>"
      ]
     },
     "metadata": {
      "needs_background": "light"
     },
     "output_type": "display_data"
    },
    {
     "data": {
      "image/png": "[encoded data removed]",
      "text/plain": [
       "<Figure size 432x288 with 1 Axes>"
      ]
     },
     "metadata": {
      "needs_background": "light"
     },
     "output_type": "display_data"
    }
   ],
   "source": [
    "# 예측모델 평가 시각화 \n",
    "fig, loss_ax = plt.subplots()\n",
    "acc_ax = loss_ax.twinx()\n",
    "loss_ax.plot(hist.history['loss'], 'y', label='train loss')\n",
    "loss_ax.plot(hist.history['val_loss'], 'r', label='val loss')\n",
    "acc_ax.plot(hist.history['mae'], 'b', label='train mae')\n",
    "acc_ax.plot(hist.history['val_mae'], 'g', label='val mae')\n",
    "\n",
    "loss_ax.set_xlabel('epoch')\n",
    "loss_ax.set_ylabel('loss')\n",
    "acc_ax.set_ylabel('mae')\n",
    "\n",
    "loss_ax.legend(loc='upper left')\n",
    "acc_ax.legend(loc='lower left')\n",
    "pyplot.show()\n",
    "\n",
    "plt.subplot(2, 1 , 1)\n",
    "# plot history\n",
    "pyplot.plot(hist.history['loss'], label='train')\n",
    "pyplot.plot(hist.history['val_loss'], label='test')\n",
    "pyplot.legend()\n",
    "pyplot.show()\n",
    "# so_score = so_model.evaluate(so_test_X, so_test_y)\n",
    "# print(so_score)\n"
   ]
  },
  {
   "cell_type": "code",
   "execution_count": null,
   "metadata": {},
   "outputs": [],
   "source": []
  },
  {
   "cell_type": "code",
   "execution_count": null,
   "metadata": {},
   "outputs": [],
   "source": []
  }
 ],
 "metadata": {
  "interpreter": {
   "hash": "74ac2c347abb782a3d2f694c8d9341193b1005c179381ae3abf4a67743d7a946"
  },
  "kernelspec": {
   "display_name": "Python 3.8.8 64-bit ('base': conda)",
   "name": "python3"
  },
  "language_info": {
   "codemirror_mode": {
    "name": "ipython",
    "version": 3
   },
   "file_extension": ".py",
   "mimetype": "text/x-python",
   "name": "python",
   "nbconvert_exporter": "python",
   "pygments_lexer": "ipython3",
   "version": "3.8.8"
  },
  "orig_nbformat": 4
 },
 "nbformat": 4,
 "nbformat_minor": 2
}
