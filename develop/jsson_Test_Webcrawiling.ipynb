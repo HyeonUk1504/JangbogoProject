{
 "cells": [
  {
   "cell_type": "code",
   "execution_count": 1,
   "metadata": {},
   "outputs": [],
   "source": [
    "from selenium import webdriver\n",
    "from bs4 import BeautifulSoup\n",
    "from collections import Counter\n",
    "\n",
    "import pandas as pd \n",
    "import re\n",
    "import time\n",
    "\n",
    "import matplotlib.pyplot as plt\n",
    "import seaborn as sns \n",
    "\n",
    "import matplotlib\n",
    "from matplotlib import font_manager, rc\n",
    "import platform\n",
    "import warnings"
   ]
  },
  {
   "cell_type": "code",
   "execution_count": 2,
   "metadata": {},
   "outputs": [],
   "source": [
    "driver = webdriver.Chrome(\"chromedriver.exe\")\n",
    "driver.get(\"https://unipass.customs.go.kr/ets/index.do?menuId=ETS_MNU_00000107\")\n",
    "# driver.get(\"https://www.jobplanet.co.kr/search?query=%EB%A8%B8%EC%8B%A0%EB%9F%AC%EB%8B%9D&category=search_new&search_keyword_hint_id=6&_rs_con=seach&_rs_act=keyword_search\")\n",
    "time.sleep(2)"
   ]
  },
  {
   "cell_type": "code",
   "execution_count": 3,
   "metadata": {},
   "outputs": [],
   "source": [
    "search_form=driver.find_element_by_id(\"TRS0104012Q_fmSearch\")"
   ]
  },
  {
   "cell_type": "code",
   "execution_count": 4,
   "metadata": {},
   "outputs": [],
   "source": [
    "# 조회기간\n",
    "# 3년조회 가능 \n",
    "priodKind=search_form.find_element_by_id(\"TRS0104012Q_priodKind\")"
   ]
  },
  {
   "cell_type": "code",
   "execution_count": null,
   "metadata": {},
   "outputs": [],
   "source": []
  },
  {
   "cell_type": "code",
   "execution_count": 5,
   "metadata": {},
   "outputs": [],
   "source": [
    "priodKind.send_keys(\"월\")"
   ]
  },
  {
   "cell_type": "code",
   "execution_count": 7,
   "metadata": {},
   "outputs": [],
   "source": [
    "# 시작 년월\n",
    "priodFr=search_form.find_element_by_id(\"TRS0104012Q_priodFr\")\n",
    "# priodFr.send_keys(\"2000.01\")\n",
    "priodFr.send_keys(\"2000.01\")"
   ]
  },
  {
   "cell_type": "code",
   "execution_count": 8,
   "metadata": {},
   "outputs": [],
   "source": [
    "# 종료 년월\n",
    "priodTo=search_form.find_element_by_id(\"TRS0104012Q_priodTo\")\n",
    "priodTo.send_keys(\"2003.12\")"
   ]
  },
  {
   "cell_type": "code",
   "execution_count": null,
   "metadata": {},
   "outputs": [],
   "source": []
  },
  {
   "cell_type": "code",
   "execution_count": 9,
   "metadata": {},
   "outputs": [],
   "source": [
    "# 품목코드 \n",
    "hsSgn02=search_form.find_element_by_id(\"TRS0104012Q_hsSgn02\")\n",
    "hsSgn02.clear()\n",
    "hsSgn02.send_keys(\"07\") # 코드 앞자리 0 ~ 2 자리\n",
    "\n"
   ]
  },
  {
   "cell_type": "code",
   "execution_count": 76,
   "metadata": {},
   "outputs": [],
   "source": [
    "# 품목코드\n",
    "hsSgn04=search_form.find_element_by_id(\"TRS0104012Q_hsSgn04\")\n",
    "hsSgn04.clear()\n",
    "hsSgn04.send_keys(\"03\") # 코드 앞자리 3 ~ 4 자리\n"
   ]
  },
  {
   "cell_type": "code",
   "execution_count": 80,
   "metadata": {},
   "outputs": [],
   "source": [
    "# 품목코드\n",
    "hsSgn06=search_form.find_element_by_id(\"TRS0104012Q_hsSgn06\")\n",
    "hsSgn06.clear()\n",
    "hsSgn06.send_keys(\"10\") # 코드 앞자리 5 ~ 6 자리"
   ]
  },
  {
   "cell_type": "code",
   "execution_count": 81,
   "metadata": {},
   "outputs": [],
   "source": [
    "# 품목코드\n",
    "hsSgn10=search_form.find_element_by_id(\"TRS0104012Q_hsSgn10\")\n",
    "hsSgn10.clear()\n",
    "hsSgn10.send_keys(\"1000\") # 코드 앞자리 7 ~ 10 자리"
   ]
  },
  {
   "cell_type": "code",
   "execution_count": null,
   "metadata": {},
   "outputs": [],
   "source": []
  },
  {
   "cell_type": "code",
   "execution_count": 82,
   "metadata": {},
   "outputs": [],
   "source": [
    "# 국가명 \n",
    "cntyCd=search_form.find_element_by_id(\"TRS0104012Q_cntyCd\")\n",
    "# cntyCd.clear()\n",
    "cntyCd.send_keys(\"전체\")"
   ]
  },
  {
   "cell_type": "code",
   "execution_count": null,
   "metadata": {},
   "outputs": [],
   "source": []
  },
  {
   "cell_type": "code",
   "execution_count": 83,
   "metadata": {},
   "outputs": [],
   "source": [
    "# 조회버튼 입력 \n",
    "driver.find_element_by_css_selector('#TRS0104012Q_fmSearch > div > footer > button').click()\n",
    "#TRS0104012Q_fmSearch > div > footer > button"
   ]
  },
  {
   "cell_type": "code",
   "execution_count": 84,
   "metadata": {},
   "outputs": [],
   "source": [
    "# 엑셀 다운로드\n",
    "driver.find_element_by_css_selector('#TRS0104012Q_downExcel_double').click()\n",
    "#TRS0104012Q_downExcel_double"
   ]
  },
  {
   "cell_type": "code",
   "execution_count": null,
   "metadata": {},
   "outputs": [],
   "source": []
  },
  {
   "cell_type": "code",
   "execution_count": 10,
   "metadata": {},
   "outputs": [],
   "source": [
    "# getNitemtradeList\n",
    "code_df = pd.read_excel(\"../data/관세청조회코드_v2.7.xlsx\", sheet_name=None)\n",
    "items_df =code_df['품목별 코드']\n",
    "country_df = code_df['국가별코드']\n",
    "sinseong_df =code_df['신성질별코드']\n",
    "export_df = code_df['수출 수입코드']"
   ]
  },
  {
   "cell_type": "code",
   "execution_count": 11,
   "metadata": {},
   "outputs": [],
   "source": [
    "# *대상품목(16): 배추, 무, 양파, 건고추, 마늘, 대파, 얼갈이배추, 양배추, 깻잎, 시금치, 미나리, 당근, 파프리카, 새송이, 팽이버섯, 토마토\n",
    "# *대상품종(5): 청상추, 백다다기, 애호박, 캠벨얼리, 샤인마스캇\n",
    "\n",
    "list_PUM = ['배추', '무', '양파', '건고추', '마늘', '대파', '얼갈이배추', '양배추', '깻잎', '시금치', '미나리', '당근', '파프리카', '새송이', '팽이버섯', '토마토']\n",
    "list_KIN = ['청상추', '백다다기', '애호박', '캠벨얼리', '샤인마스캇']"
   ]
  },
  {
   "cell_type": "code",
   "execution_count": 37,
   "metadata": {},
   "outputs": [
    {
     "name": "stdout",
     "output_type": "stream",
     "text": [
      "['양파' '마늘' '양배추' '배추' '당근' '무' '팽이버섯' '토마토']\n"
     ]
    },
    {
     "data": {
      "text/html": [
       "<div>\n",
       "<style scoped>\n",
       "    .dataframe tbody tr th:only-of-type {\n",
       "        vertical-align: middle;\n",
       "    }\n",
       "\n",
       "    .dataframe tbody tr th {\n",
       "        vertical-align: top;\n",
       "    }\n",
       "\n",
       "    .dataframe thead th {\n",
       "        text-align: right;\n",
       "    }\n",
       "</style>\n",
       "<table border=\"1\" class=\"dataframe\">\n",
       "  <thead>\n",
       "    <tr style=\"text-align: right;\">\n",
       "      <th></th>\n",
       "      <th>품목코드</th>\n",
       "      <th>품목명</th>\n",
       "    </tr>\n",
       "  </thead>\n",
       "  <tbody>\n",
       "    <tr>\n",
       "      <th>952</th>\n",
       "      <td>703101000</td>\n",
       "      <td>양파</td>\n",
       "    </tr>\n",
       "    <tr>\n",
       "      <th>954</th>\n",
       "      <td>70320</td>\n",
       "      <td>마늘</td>\n",
       "    </tr>\n",
       "    <tr>\n",
       "      <th>964</th>\n",
       "      <td>704901000</td>\n",
       "      <td>양배추</td>\n",
       "    </tr>\n",
       "    <tr>\n",
       "      <th>965</th>\n",
       "      <td>704902000</td>\n",
       "      <td>배추</td>\n",
       "    </tr>\n",
       "    <tr>\n",
       "      <th>976</th>\n",
       "      <td>706101000</td>\n",
       "      <td>당근</td>\n",
       "    </tr>\n",
       "    <tr>\n",
       "      <th>979</th>\n",
       "      <td>706901000</td>\n",
       "      <td>무</td>\n",
       "    </tr>\n",
       "    <tr>\n",
       "      <th>1004</th>\n",
       "      <td>709595000</td>\n",
       "      <td>팽이버섯</td>\n",
       "    </tr>\n",
       "    <tr>\n",
       "      <th>1025</th>\n",
       "      <td>710801000</td>\n",
       "      <td>양파</td>\n",
       "    </tr>\n",
       "    <tr>\n",
       "      <th>1026</th>\n",
       "      <td>710802000</td>\n",
       "      <td>마늘</td>\n",
       "    </tr>\n",
       "    <tr>\n",
       "      <th>1028</th>\n",
       "      <td>710804000</td>\n",
       "      <td>당근</td>\n",
       "    </tr>\n",
       "    <tr>\n",
       "      <th>1043</th>\n",
       "      <td>711901000</td>\n",
       "      <td>마늘</td>\n",
       "    </tr>\n",
       "    <tr>\n",
       "      <th>1045</th>\n",
       "      <td>711904000</td>\n",
       "      <td>당근</td>\n",
       "    </tr>\n",
       "    <tr>\n",
       "      <th>1054</th>\n",
       "      <td>712200000</td>\n",
       "      <td>양파</td>\n",
       "    </tr>\n",
       "    <tr>\n",
       "      <th>1067</th>\n",
       "      <td>712391050</td>\n",
       "      <td>팽이버섯</td>\n",
       "    </tr>\n",
       "    <tr>\n",
       "      <th>1071</th>\n",
       "      <td>712901000</td>\n",
       "      <td>마늘</td>\n",
       "    </tr>\n",
       "    <tr>\n",
       "      <th>1074</th>\n",
       "      <td>712902020</td>\n",
       "      <td>무</td>\n",
       "    </tr>\n",
       "    <tr>\n",
       "      <th>1076</th>\n",
       "      <td>712902040</td>\n",
       "      <td>당근</td>\n",
       "    </tr>\n",
       "    <tr>\n",
       "      <th>1078</th>\n",
       "      <td>712902060</td>\n",
       "      <td>양배추</td>\n",
       "    </tr>\n",
       "    <tr>\n",
       "      <th>2211</th>\n",
       "      <td>2001909020</td>\n",
       "      <td>토마토</td>\n",
       "    </tr>\n",
       "    <tr>\n",
       "      <th>2215</th>\n",
       "      <td>2001909060</td>\n",
       "      <td>마늘</td>\n",
       "    </tr>\n",
       "    <tr>\n",
       "      <th>2216</th>\n",
       "      <td>2001909070</td>\n",
       "      <td>양파</td>\n",
       "    </tr>\n",
       "  </tbody>\n",
       "</table>\n",
       "</div>"
      ],
      "text/plain": [
       "            품목코드   품목명\n",
       "952    703101000    양파\n",
       "954        70320    마늘\n",
       "964    704901000   양배추\n",
       "965    704902000    배추\n",
       "976    706101000    당근\n",
       "979    706901000     무\n",
       "1004   709595000  팽이버섯\n",
       "1025   710801000    양파\n",
       "1026   710802000    마늘\n",
       "1028   710804000    당근\n",
       "1043   711901000    마늘\n",
       "1045   711904000    당근\n",
       "1054   712200000    양파\n",
       "1067   712391050  팽이버섯\n",
       "1071   712901000    마늘\n",
       "1074   712902020     무\n",
       "1076   712902040    당근\n",
       "1078   712902060   양배추\n",
       "2211  2001909020   토마토\n",
       "2215  2001909060    마늘\n",
       "2216  2001909070    양파"
      ]
     },
     "execution_count": 37,
     "metadata": {},
     "output_type": "execute_result"
    }
   ],
   "source": [
    "PUM_code_df = items_df[items_df['품목명'].isin(list_PUM)]\n",
    "len(PUM_code_df)\n",
    "# PUM_code_df\n",
    "# items_df[items_df['품목명'].isin(list_KIN)]\n",
    "\n",
    "print(PUM_code_df['품목명'].unique())\n",
    "PUM_code_df"
   ]
  },
  {
   "cell_type": "code",
   "execution_count": 38,
   "metadata": {},
   "outputs": [],
   "source": [
    "PUM_code_df=PUM_code_df.astype({'품목코드':'str'})"
   ]
  },
  {
   "cell_type": "code",
   "execution_count": 39,
   "metadata": {},
   "outputs": [],
   "source": [
    "# PUM_code_df['품목코드'][PUM_code_df['품목코드'].str.len() == 9].str.zfill(width=10)\n",
    "# 품목코드 10자리, 6자리로 변경 앞에 0 을 붙임.\n",
    "PUM_code_df['품목코드'] = PUM_code_df['품목코드'].apply(lambda x: x.zfill(10) if (len(x) == 9) else x )\n",
    "PUM_code_df['품목코드'] = PUM_code_df['품목코드'].apply(lambda x: x.zfill(6) if (len(x) == 5) else x )\n"
   ]
  },
  {
   "cell_type": "code",
   "execution_count": 41,
   "metadata": {},
   "outputs": [],
   "source": [
    "# PUM_code_df"
   ]
  },
  {
   "cell_type": "code",
   "execution_count": 48,
   "metadata": {},
   "outputs": [],
   "source": [
    "# 년 월 \n",
    "year_list = list(range(2000, 2022, 3))\n",
    "# year_list\n",
    "month_list = [\"01\", \"12\"]\n"
   ]
  },
  {
   "cell_type": "code",
   "execution_count": null,
   "metadata": {},
   "outputs": [],
   "source": [
    "df['HS코드']\n",
    "# 3년단위 검색 \n",
    "# 2000.01 - 2003.12 \n",
    "\n",
    "\n"
   ]
  }
 ],
 "metadata": {
  "interpreter": {
   "hash": "74ac2c347abb782a3d2f694c8d9341193b1005c179381ae3abf4a67743d7a946"
  },
  "kernelspec": {
   "display_name": "Python 3.8.8 64-bit ('base': conda)",
   "name": "python3"
  },
  "language_info": {
   "codemirror_mode": {
    "name": "ipython",
    "version": 3
   },
   "file_extension": ".py",
   "mimetype": "text/x-python",
   "name": "python",
   "nbconvert_exporter": "python",
   "pygments_lexer": "ipython3",
   "version": "3.8.8"
  },
  "orig_nbformat": 4
 },
 "nbformat": 4,
 "nbformat_minor": 2
}
